{
 "cells": [
  {
   "cell_type": "markdown",
   "metadata": {},
   "source": [
    "### **Question:**\n",
    "\n",
    "***Write a program that accepts a sentence and calculate the number of upper case letters and lower case letters.***\n",
    "\n",
    "***Suppose the following input is supplied to the program:***\n",
    "```\n",
    "Hello world!\n",
    "```\n",
    "***Then, the output should be:***\n",
    "```\n",
    "UPPER CASE 1\n",
    "LOWER CASE 9\n",
    "```\n"
   ]
  },
  {
   "cell_type": "code",
   "execution_count": 5,
   "metadata": {},
   "outputs": [
    {
     "name": "stdout",
     "output_type": "stream",
     "text": [
      "abcdefghijklmnopqrstuvwxyz\n",
      "ABCDEFGHIJKLMNOPQRSTUVWXYZ\n"
     ]
    }
   ],
   "source": [
    "str1 = \"Hello world!\" \n",
    "lower = 'abcdefghijklmnopqrstuvwxyz'\n",
    "upper = lower.upper()\n",
    "\n",
    "print(lower)\n",
    "print(upper)"
   ]
  },
  {
   "cell_type": "code",
   "execution_count": 2,
   "metadata": {},
   "outputs": [
    {
     "name": "stdout",
     "output_type": "stream",
     "text": [
      "Upper Case Letter(s) : 1\n",
      "Lower Case Letter(s) : 9\n"
     ]
    }
   ],
   "source": [
    "upper_count = 0\n",
    "lower_count = 0\n",
    "for char in str1:\n",
    "    if char in upper:\n",
    "        upper_count += 1\n",
    "    elif char in lower:\n",
    "        lower_count +=1\n",
    "\n",
    "print (\"Upper Case Letter(s) : {}\".format(upper_count))\n",
    "print (\"Lower Case Letter(s) : {}\".format(lower_count))"
   ]
  },
  {
   "cell_type": "markdown",
   "metadata": {},
   "source": [
    "The idea in the above solution approach is that you are looping the input string and finding out if each of the element is a lower case or an upper case letter. [Hint: You can user is_upper() and is_lower() functions] The same program using is_lower() and is_upper() functions is as below."
   ]
  },
  {
   "cell_type": "code",
   "execution_count": 6,
   "metadata": {},
   "outputs": [
    {
     "name": "stdout",
     "output_type": "stream",
     "text": [
      "Upper Case Letter(s) : 1\n",
      "Lower Case Letter(s) : 9\n"
     ]
    }
   ],
   "source": [
    "upper_count = 0\n",
    "lower_count = 0\n",
    "for char in str1:\n",
    "    if char.isupper():\n",
    "        upper_count += 1\n",
    "    elif char.islower():\n",
    "        lower_count +=1\n",
    "\n",
    "print (\"Upper Case Letter(s) : {}\".format(upper_count))\n",
    "print (\"Lower Case Letter(s) : {}\".format(lower_count))"
   ]
  },
  {
   "cell_type": "markdown",
   "metadata": {},
   "source": [
    "The assumption in both the above is that the input string is reasonably short. This might always not be the case. If the string is too long, then the following approach makes more sense. This approach will ensure that you are iterating only 52 times through the string."
   ]
  },
  {
   "cell_type": "code",
   "execution_count": 4,
   "metadata": {},
   "outputs": [
    {
     "name": "stdout",
     "output_type": "stream",
     "text": [
      "Upper Case Letter(s) : 1\n",
      "Lower Case Letter(s) : 9\n"
     ]
    }
   ],
   "source": [
    "upper_count = 0\n",
    "lower_count = 0\n",
    "\n",
    "for letter in lower:\n",
    "    lower_count += str1.count(letter)\n",
    "\n",
    "for letter in upper:\n",
    "    upper_count += str1.count(letter)\n",
    "\n",
    "print (\"Upper Case Letter(s) : {}\".format(upper_count))\n",
    "print (\"Lower Case Letter(s) : {}\".format(lower_count))\n",
    "\n"
   ]
  },
  {
   "cell_type": "code",
   "execution_count": null,
   "metadata": {},
   "outputs": [],
   "source": []
  },
  {
   "cell_type": "code",
   "execution_count": 13,
   "metadata": {},
   "outputs": [
    {
     "name": "stdout",
     "output_type": "stream",
     "text": [
      "11106\n"
     ]
    }
   ],
   "source": [
    "given_number = '9'\n",
    "list1 = []\n",
    "sum_of_numbers = 0\n",
    "\n",
    "for i in range(4):\n",
    "    #list1.append(given_number*(i+1))\n",
    "    #print (given_number * (i+1))\n",
    "    sum_of_numbers += int(given_number*(i+1))\n",
    "\n",
    "#for number in list1:\n",
    "#    sum_of_numbers += int(number)\n",
    "\n",
    "print (sum_of_numbers)"
   ]
  },
  {
   "cell_type": "code",
   "execution_count": 10,
   "metadata": {},
   "outputs": [
    {
     "data": {
      "text/plain": [
       "'9999999999'"
      ]
     },
     "execution_count": 10,
     "metadata": {},
     "output_type": "execute_result"
    }
   ],
   "source": []
  },
  {
   "cell_type": "code",
   "execution_count": 16,
   "metadata": {},
   "outputs": [
    {
     "name": "stdout",
     "output_type": "stream",
     "text": [
      "D 300\n",
      "D 300\n",
      "W 200\n",
      "D 100\n",
      "W 100\n"
     ]
    }
   ],
   "source": [
    "string = \"\"\"D 300\n",
    "D 300\n",
    "W 200\n",
    "D 100\n",
    "W 100\"\"\"\n",
    "print(string)\n"
   ]
  },
  {
   "cell_type": "markdown",
   "metadata": {},
   "source": [
    "### **Question:**\n",
    "\n",
    "***A website requires the users to input username and password to register. Write a program to check the validity of password input by users.***\n",
    "\n",
    "***Following are the criteria for checking the password:***\n",
    "  - ***At least 1 letter between [a-z]***\n",
    "  - ***At least 1 number between [0-9]***\n",
    "  - ***At least 1 letter between [A-Z]***\n",
    "  - ***At least 1 character from [$#@]***\n",
    "  - ***Minimum length of transaction password: 6***\n",
    "  - ***Maximum length of transaction password: 12***\n",
    "\n",
    "***Your program should accept a sequence of comma separated passwords and will check them according to the above criteria. Passwords that match the criteria are to be printed, each separated by a comma.***\n",
    "\n",
    "***Example***\n",
    "\n",
    "***If the following passwords are given as input to the program:***\n",
    "```\n",
    "ABd1234@1,a F1#,2w3E*,2We3345\n",
    "```\n",
    "***Then, the output of the program should be:***\n",
    "```\n",
    "ABd1234@1"
   ]
  },
  {
   "cell_type": "code",
   "execution_count": 21,
   "metadata": {},
   "outputs": [
    {
     "name": "stdout",
     "output_type": "stream",
     "text": [
      "Valid Password\n"
     ]
    }
   ],
   "source": [
    "# Partial Solution - Just checking a single password\n",
    "\n",
    "given_password = 'ABd@12341'\n",
    "\n",
    "lower_count = 0\n",
    "upper_count = 0\n",
    "special_count = 0\n",
    "digit_count = 0\n",
    "\n",
    "for char in given_password:\n",
    "    #if char.islower():\n",
    "    #if 'a' <= char <= 'z':\n",
    "    if char in 'abcdefghijklmnopqrstuvwxyz':\n",
    "        lower_count +=1\n",
    "    #elif char.isupper():\n",
    "    if 'A' <= char <= 'B':\n",
    "        upper_count +=1\n",
    "    elif char in '$#@':\n",
    "        special_count +=1\n",
    "    elif char in '0123456789':\n",
    "        digit_count += 1\n",
    "        \n",
    "if ( len(given_password) >= 6 and len(given_password) <=12  and lower_count >= 1 and upper_count >= 1 and special_count >= 1 and digit_count>=1):\n",
    "    print (\"Valid Password\")\n",
    "else:\n",
    "    print (\"Invalid Password\")"
   ]
  },
  {
   "cell_type": "code",
   "execution_count": 17,
   "metadata": {},
   "outputs": [
    {
     "data": {
      "text/plain": [
       "False"
      ]
     },
     "execution_count": 17,
     "metadata": {},
     "output_type": "execute_result"
    }
   ],
   "source": [
    "( 'a' < 'z' < 'z')"
   ]
  },
  {
   "cell_type": "markdown",
   "metadata": {},
   "source": [
    "### Write a program to compute the frequency of the words from the input. The output should output after sorting the key alphanumerically.\n",
    "\n",
    "### Suppose the following input is supplied to the program:\n",
    "\n",
    "### New to Python or choosing between Python 2 and Python 3? Read Python 2 or Python 3. Then, the output should be:\n",
    "```\n",
    "2:2 \n",
    "3.:1 \n",
    "3?:1 \n",
    "New:1 \n",
    "Python:5 \n",
    "Read:1 \n",
    "and:1 \n",
    "between:1 \n",
    "choosing:1 \n",
    "or:2 \n",
    "to:1`\n",
    "```"
   ]
  },
  {
   "cell_type": "code",
   "execution_count": 1,
   "metadata": {},
   "outputs": [
    {
     "name": "stdout",
     "output_type": "stream",
     "text": [
      "True\n"
     ]
    }
   ],
   "source": [
    "s = 'abc'\n",
    "print (s in s)"
   ]
  },
  {
   "cell_type": "code",
   "execution_count": 5,
   "metadata": {},
   "outputs": [
    {
     "data": {
      "text/plain": [
       "1"
      ]
     },
     "execution_count": 5,
     "metadata": {},
     "output_type": "execute_result"
    }
   ],
   "source": [
    "[\"abc\",\"abcd\"].count (\"abc\")"
   ]
  },
  {
   "cell_type": "code",
   "execution_count": null,
   "metadata": {},
   "outputs": [],
   "source": []
  }
 ],
 "metadata": {
  "kernelspec": {
   "display_name": "Python 3",
   "language": "python",
   "name": "python3"
  },
  "language_info": {
   "codemirror_mode": {
    "name": "ipython",
    "version": 3
   },
   "file_extension": ".py",
   "mimetype": "text/x-python",
   "name": "python",
   "nbconvert_exporter": "python",
   "pygments_lexer": "ipython3",
   "version": "3.7.3"
  }
 },
 "nbformat": 4,
 "nbformat_minor": 4
}
