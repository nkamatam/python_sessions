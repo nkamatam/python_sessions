{
 "cells": [
  {
   "cell_type": "markdown",
   "metadata": {},
   "source": [
    "## Excercise \n",
    "\n",
    "Movies are a significant indicator of cultural diversity in any modern state. Some would go on to argue that understanding the cinema is the key to understanding the culture. \n",
    "The United Nations has collected some data on this and is downloaded for you here as CUL_DS_14052018040718753.csv \n",
    "\n",
    "\n",
    "You can get more detailed and latest data from UNESCO website: http://data.uis.unesco.org/\n",
    "Please look at the data in the above csv file and answer the following questions (please feel free to Google wherever required):\n",
    "1.\tOn how many distinct categories/indicators has the data been collected?\n",
    "2.\tWhich country made the maximum animated feature films in the years 2014 and 2015?\n",
    "3.\tFor the year 2014, how many countries have been studied for at least one indicator?\n",
    "4.\tWhich country has the maximum ratio for total number of indoor cinemas vs total number of national feature films produced for the year 2015.\n",
    "5.\tWhat does the Symbol (‡) Signify? Which country has most of those?\n",
    "6.\tWhat year is India’s Gross box office receipts for all national feature films (in local currency) the highest?\n",
    "\n"
   ]
  },
  {
   "cell_type": "code",
   "execution_count": 1,
   "metadata": {},
   "outputs": [
    {
     "name": "stdout",
     "output_type": "stream",
     "text": [
      "Number of Indicators : 76\n"
     ]
    }
   ],
   "source": [
    "import csv\n",
    "\n",
    "with open(r'CUL_DS_14052018040718753.csv') as csvfile:\n",
    "    readCSV = csv.reader(csvfile, delimiter=',')\n",
    "    set1=set([])\n",
    "    for row in readCSV:\n",
    "         set1.add(row[1])\n",
    "    set1.remove('Indicator')\n",
    "    print(\"Number of Indicators : \" + str(len(set1)))\n",
    "    "
   ]
  },
  {
   "cell_type": "code",
   "execution_count": null,
   "metadata": {},
   "outputs": [],
   "source": [
    "import csv\n",
    "\n",
    "with open(r'CUL_DS_14052018040718753.csv') as csvfile:\n",
    "    readCSV = csv.reader(csvfile, delimiter=',')\n",
    "    dict1 = {}\n",
    "    for row in readCSV:\n",
    "         if ((row[4] == '2015' or row[4] == '2014' ) and (\"Number of animated feature films\" in row[1] ) and row[6] != ''):\n",
    "                if (row[3] in dict1):\n",
    "                    dict1[row[3]] = dict1[row[3]] + int(row[6])\n",
    "                else:\n",
    "                    dict1[row[3]] = int(row[6])\n",
    "    max_value = max(dict1.values())  \n",
    "    max_keys = [k for k, v in dict1.items() if v == max_value]\n",
    "\n",
    "    print(max_value, \"==> \", max_keys)   \n",
    "    "
   ]
  },
  {
   "cell_type": "code",
   "execution_count": null,
   "metadata": {},
   "outputs": [],
   "source": [
    "import csv\n",
    "\n",
    "with open(r'C:\\Users\\kamatn\\Downloads\\CUL_DS_14052018040718753.csv') as csvfile:\n",
    "    readCSV = csv.reader(csvfile, delimiter=',')\n",
    "    set1 = set()\n",
    "    for row in readCSV:\n",
    "         if (row[4] == '2014'):\n",
    "             set1.add(row[3])\n",
    "print (len(set1))\n"
   ]
  },
  {
   "cell_type": "code",
   "execution_count": null,
   "metadata": {},
   "outputs": [],
   "source": [
    "import csv\n",
    "\n",
    "indoorCinemas = {}\n",
    "totalMovies2015 = {}\n",
    "indoorToMovieRatio2015 = {}\n",
    "\n",
    "with open(r'C:\\Users\\kamatn\\Downloads\\CUL_DS_14052018040718753.csv') as csvfile:\n",
    "    readCSV = csv.reader(csvfile, delimiter=',')\n",
    "    for row in readCSV:\n",
    "         if ((row[4] == '2015') and (\"Total number of indoor cinemas\" in row[1] ) and row[6] != ''):\n",
    "                if (row[3] not in indoorCinemas.keys()):\n",
    "                    indoorCinemas[row[3]] = int(row[6])\n",
    "\n",
    "with open(r'C:\\Users\\kamatn\\Downloads\\CUL_DS_14052018040718753.csv') as csvfile:\n",
    "    readCSV = csv.reader(csvfile, delimiter=',')\n",
    "    for row in readCSV:\n",
    "         if ((row[4] == '2015') and (\"Total number of all feature films exhibited\" in row[1] ) and row[6] != ''):\n",
    "             if (row[3] not in totalMovies2015.keys()):\n",
    "                    totalMovies2015[row[3]] = int(row[6])\n",
    "\n",
    "    for key in indoorCinemas.keys():\n",
    "        if (key in totalMovies2015.keys()):\n",
    "            indoorToMovieRatio2015 [key] = indoorCinemas[key]/totalMovies2015[key]\n",
    "\n",
    "    max_value = max(indoorToMovieRatio2015.values())  \n",
    "    max_keys = [k for k, v in indoorToMovieRatio2015.items() if v == max_value]\n",
    "\n",
    "    print(max_value, \"==> \", max_keys)  "
   ]
  },
  {
   "cell_type": "code",
   "execution_count": null,
   "metadata": {},
   "outputs": [],
   "source": [
    "import csv\n",
    "\n",
    "calcCountries = {}\n",
    "\n",
    "\n",
    "with open(r'C:\\Users\\kamatn\\Downloads\\CUL_DS_14052018040718753.csv') as csvfile:\n",
    "    readCSV = csv.reader(csvfile, delimiter=',')\n",
    "    for row in readCSV:\n",
    "         if (( row[7] == 'â€¡')):\n",
    "#          if (( row[7] == '\\u2021')):\n",
    "                if (row[3] not in calcCountries.keys()):\n",
    "                    calcCountries[row[3]] = 0\n",
    "                else:\n",
    "                    calcCountries[row[3]] = calcCountries[row[3]] + 1\n",
    "#    print(calcCountries)\n",
    "\n",
    "\n",
    "    max_value = max(calcCountries.values())  \n",
    "    max_keys = [k for k, v in calcCountries.items() if v == max_value]\n",
    "    print(max_value, \"==> \", max_keys)   \n"
   ]
  },
  {
   "cell_type": "code",
   "execution_count": null,
   "metadata": {},
   "outputs": [],
   "source": [
    "#Gross box office receipts for all national feature films (in local currency)\n",
    "\n",
    "import csv\n",
    "\n",
    "calcIndia = {}\n",
    "\n",
    "\n",
    "with open(r'C:\\Users\\kamatn\\Downloads\\CUL_DS_14052018040718753.csv') as csvfile:\n",
    "    readCSV = csv.reader(csvfile, delimiter=',')\n",
    "    for row in readCSV:\n",
    "         if (( row[3] == 'India') and row[6] != '' and row[1] == 'Gross box office receipts for all national feature films (in local currency)'):\n",
    "                if (row[4] not in calcIndia.keys()):\n",
    "                    calcIndia[row[4]] = int(row[6])\n",
    "                    \n",
    "    max_value = max(calcIndia.values())  \n",
    "    max_keys = [k for k, v in calcIndia.items() if v == max_value]\n",
    "    print(max_value, \"==> \", max_keys)   \n",
    "\n"
   ]
  }
 ],
 "metadata": {
  "kernelspec": {
   "display_name": "Python 3",
   "language": "python",
   "name": "python3"
  },
  "language_info": {
   "codemirror_mode": {
    "name": "ipython",
    "version": 3
   },
   "file_extension": ".py",
   "mimetype": "text/x-python",
   "name": "python",
   "nbconvert_exporter": "python",
   "pygments_lexer": "ipython3",
   "version": "3.7.3"
  }
 },
 "nbformat": 4,
 "nbformat_minor": 4
}
