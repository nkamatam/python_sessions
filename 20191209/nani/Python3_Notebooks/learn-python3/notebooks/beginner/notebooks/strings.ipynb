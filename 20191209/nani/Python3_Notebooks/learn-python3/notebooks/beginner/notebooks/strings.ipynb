{
 "cells": [
  {
   "cell_type": "markdown",
   "metadata": {},
   "source": [
    "# [Strings](https://docs.python.org/3/library/stdtypes.html#text-sequence-type-str)"
   ]
  },
  {
   "cell_type": "code",
<<<<<<< HEAD:python_prgms/20191209/Python3_Notebooks/learn-python3/notebooks/beginner/notebooks/strings.ipynb
   "execution_count": null,
=======
   "execution_count": 30,
>>>>>>> 43bb348532f5aa2ce3e807e03dc329f184895f34:python_prgms/20191209/nani/Python3_Notebooks/learn-python3/notebooks/beginner/notebooks/strings.ipynb
   "metadata": {},
   "outputs": [
    {
     "name": "stdout",
     "output_type": "stream",
     "text": [
      "Python is my favorite programming language!\n"
     ]
    }
   ],
   "source": [
    "my_string = 'Python is my favorite programming language!'\n",
    "#my_string = \"NEw string\"\n",
    "print (my_string)"
   ]
  },
  {
   "cell_type": "code",
<<<<<<< HEAD:python_prgms/20191209/Python3_Notebooks/learn-python3/notebooks/beginner/notebooks/strings.ipynb
   "execution_count": null,
   "metadata": {},
   "outputs": [],
=======
   "execution_count": 27,
   "metadata": {},
   "outputs": [
    {
     "data": {
      "text/plain": [
       "'NEw string'"
      ]
     },
     "execution_count": 27,
     "metadata": {},
     "output_type": "execute_result"
    }
   ],
>>>>>>> 43bb348532f5aa2ce3e807e03dc329f184895f34:python_prgms/20191209/nani/Python3_Notebooks/learn-python3/notebooks/beginner/notebooks/strings.ipynb
   "source": [
    "my_string"
   ]
  },
  {
   "cell_type": "code",
<<<<<<< HEAD:python_prgms/20191209/Python3_Notebooks/learn-python3/notebooks/beginner/notebooks/strings.ipynb
   "execution_count": null,
   "metadata": {},
   "outputs": [],
=======
   "execution_count": 21,
   "metadata": {},
   "outputs": [
    {
     "data": {
      "text/plain": [
       "str"
      ]
     },
     "execution_count": 21,
     "metadata": {},
     "output_type": "execute_result"
    }
   ],
>>>>>>> 43bb348532f5aa2ce3e807e03dc329f184895f34:python_prgms/20191209/nani/Python3_Notebooks/learn-python3/notebooks/beginner/notebooks/strings.ipynb
   "source": [
    "type(my_string)"
   ]
  },
  {
   "cell_type": "code",
<<<<<<< HEAD:python_prgms/20191209/Python3_Notebooks/learn-python3/notebooks/beginner/notebooks/strings.ipynb
   "execution_count": null,
   "metadata": {},
   "outputs": [],
=======
   "execution_count": 22,
   "metadata": {},
   "outputs": [
    {
     "data": {
      "text/plain": [
       "43"
      ]
     },
     "execution_count": 22,
     "metadata": {},
     "output_type": "execute_result"
    }
   ],
>>>>>>> 43bb348532f5aa2ce3e807e03dc329f184895f34:python_prgms/20191209/nani/Python3_Notebooks/learn-python3/notebooks/beginner/notebooks/strings.ipynb
   "source": [
    "len(my_string)"
   ]
  },
  {
   "cell_type": "markdown",
   "metadata": {},
   "source": [
    "### Respecting [PEP8](https://www.python.org/dev/peps/pep-0008/#maximum-line-length) with long strings"
   ]
  },
  {
   "cell_type": "code",
<<<<<<< HEAD:python_prgms/20191209/Python3_Notebooks/learn-python3/notebooks/beginner/notebooks/strings.ipynb
   "execution_count": null,
   "metadata": {},
   "outputs": [],
=======
   "execution_count": 23,
   "metadata": {},
   "outputs": [
    {
     "data": {
      "text/plain": [
       "'Lorem ipsum dolor sit amet, consectetur adipiscing elit.Pellentesque eget tincidunt felis. Ut ac vestibulum est.In sed ipsum sit amet sapien scelerisque bibendum. Sed sagittis purus eu diam fermentum pellentesque.'"
      ]
     },
     "execution_count": 23,
     "metadata": {},
     "output_type": "execute_result"
    }
   ],
>>>>>>> 43bb348532f5aa2ce3e807e03dc329f184895f34:python_prgms/20191209/nani/Python3_Notebooks/learn-python3/notebooks/beginner/notebooks/strings.ipynb
   "source": [
    "long_story = ('Lorem ipsum dolor sit amet, consectetur adipiscing elit.' \n",
    "              'Pellentesque eget tincidunt felis. Ut ac vestibulum est.' \n",
    "              'In sed ipsum sit amet sapien scelerisque bibendum. Sed ' \n",
    "              'sagittis purus eu diam fermentum pellentesque.')\n",
    "long_story"
   ]
  },
  {
   "cell_type": "markdown",
   "metadata": {},
   "source": [
    "## `str.replace()`"
   ]
  },
  {
   "cell_type": "markdown",
   "metadata": {},
   "source": [
    "If you don't know how it works, you can always check the `help`:"
   ]
  },
  {
   "cell_type": "code",
<<<<<<< HEAD:python_prgms/20191209/Python3_Notebooks/learn-python3/notebooks/beginner/notebooks/strings.ipynb
   "execution_count": null,
=======
   "execution_count": 24,
>>>>>>> 43bb348532f5aa2ce3e807e03dc329f184895f34:python_prgms/20191209/nani/Python3_Notebooks/learn-python3/notebooks/beginner/notebooks/strings.ipynb
   "metadata": {},
   "outputs": [],
   "source": [
    "help(str.replace)"
   ]
  },
  {
   "cell_type": "markdown",
   "metadata": {},
   "source": [
    "This will not modify `my_string` because replace is not done in-place."
   ]
  },
  {
   "cell_type": "code",
<<<<<<< HEAD:python_prgms/20191209/Python3_Notebooks/learn-python3/notebooks/beginner/notebooks/strings.ipynb
   "execution_count": null,
   "metadata": {},
   "outputs": [],
=======
   "execution_count": 31,
   "metadata": {},
   "outputs": [
    {
     "name": "stdout",
     "output_type": "stream",
     "text": [
      "Python is my favorite programming language!\n",
      "Python is my favorite programming language!\n"
     ]
    }
   ],
>>>>>>> 43bb348532f5aa2ce3e807e03dc329f184895f34:python_prgms/20191209/nani/Python3_Notebooks/learn-python3/notebooks/beginner/notebooks/strings.ipynb
   "source": [
    "print(my_string)\n",
    "my_string.replace('a', '?')\n",
    "print(my_string)"
   ]
  },
  {
   "cell_type": "markdown",
   "metadata": {},
   "source": [
    "You have to store the return value of `replace` instead."
   ]
  },
  {
   "cell_type": "code",
<<<<<<< HEAD:python_prgms/20191209/Python3_Notebooks/learn-python3/notebooks/beginner/notebooks/strings.ipynb
   "execution_count": null,
   "metadata": {},
   "outputs": [],
=======
   "execution_count": 33,
   "metadata": {},
   "outputs": [
    {
     "name": "stdout",
     "output_type": "stream",
     "text": [
      "Python will be my favorite programming language!\n",
      "Python is my favorite programming language!\n"
     ]
    }
   ],
>>>>>>> 43bb348532f5aa2ce3e807e03dc329f184895f34:python_prgms/20191209/nani/Python3_Notebooks/learn-python3/notebooks/beginner/notebooks/strings.ipynb
   "source": [
    "my_modified_string = my_string.replace('is', 'will be')\n",
    "print(my_modified_string)\n",
    "print(my_string)"
   ]
  },
  {
   "cell_type": "markdown",
   "metadata": {},
   "source": [
    "## `str.format()`"
   ]
  },
  {
   "cell_type": "code",
<<<<<<< HEAD:python_prgms/20191209/Python3_Notebooks/learn-python3/notebooks/beginner/notebooks/strings.ipynb
   "execution_count": null,
   "metadata": {},
   "outputs": [],
=======
   "execution_count": 35,
   "metadata": {},
   "outputs": [
    {
     "name": "stdout",
     "output_type": "stream",
     "text": [
      "Python is not cool\n"
     ]
    }
   ],
>>>>>>> 43bb348532f5aa2ce3e807e03dc329f184895f34:python_prgms/20191209/nani/Python3_Notebooks/learn-python3/notebooks/beginner/notebooks/strings.ipynb
   "source": [
    "secret = '{} is {} cool'.format('Python','not')\n",
    "print(secret)"
   ]
  },
  {
   "cell_type": "code",
<<<<<<< HEAD:python_prgms/20191209/Python3_Notebooks/learn-python3/notebooks/beginner/notebooks/strings.ipynb
   "execution_count": null,
=======
   "execution_count": 36,
>>>>>>> 43bb348532f5aa2ce3e807e03dc329f184895f34:python_prgms/20191209/nani/Python3_Notebooks/learn-python3/notebooks/beginner/notebooks/strings.ipynb
   "metadata": {},
   "outputs": [],
   "source": [
    "print('My name is {} {}, you can call me {}.'.format('John', 'Doe', 'John'))\n",
    "# is the same as:\n",
    "print('My name is {first} {family}, you can call me {first}.'.format(first='John', family='Doe'))"
   ]
  },
  {
   "cell_type": "markdown",
   "metadata": {},
   "source": [
    "## `str.join()`"
   ]
  },
  {
   "cell_type": "code",
<<<<<<< HEAD:python_prgms/20191209/Python3_Notebooks/learn-python3/notebooks/beginner/notebooks/strings.ipynb
   "execution_count": null,
   "metadata": {},
   "outputs": [],
=======
   "execution_count": 39,
   "metadata": {},
   "outputs": [
    {
     "name": "stdout",
     "output_type": "stream",
     "text": [
      "pandasXXXXnumpyXXXXrequests\n"
     ]
    }
   ],
>>>>>>> 43bb348532f5aa2ce3e807e03dc329f184895f34:python_prgms/20191209/nani/Python3_Notebooks/learn-python3/notebooks/beginner/notebooks/strings.ipynb
   "source": [
    "pandas = 'pandas'\n",
    "numpy = 'numpy'\n",
    "requests = 'requests'\n",
    "cool_python_libs = 'XXXX'.join([pandas,numpy,requests])\n",
    "print(cool_python_libs)"
   ]
  },
  {
   "cell_type": "code",
<<<<<<< HEAD:python_prgms/20191209/Python3_Notebooks/learn-python3/notebooks/beginner/notebooks/strings.ipynb
   "execution_count": null,
   "metadata": {},
   "outputs": [],
=======
   "execution_count": 40,
   "metadata": {},
   "outputs": [
    {
     "name": "stdout",
     "output_type": "stream",
     "text": [
      "Some cool python libraries: pandasXXXXnumpyXXXXrequests\n"
     ]
    }
   ],
>>>>>>> 43bb348532f5aa2ce3e807e03dc329f184895f34:python_prgms/20191209/nani/Python3_Notebooks/learn-python3/notebooks/beginner/notebooks/strings.ipynb
   "source": [
    "print('Some cool python libraries: {}'.format(cool_python_libs))"
   ]
  },
  {
   "cell_type": "markdown",
   "metadata": {},
   "source": [
    "Alternatives (not as [Pythonic](http://docs.python-guide.org/en/latest/writing/style/#idioms) and [slower](https://waymoot.org/home/python_string/)):"
   ]
  },
  {
   "cell_type": "code",
<<<<<<< HEAD:python_prgms/20191209/Python3_Notebooks/learn-python3/notebooks/beginner/notebooks/strings.ipynb
   "execution_count": null,
=======
   "execution_count": 41,
>>>>>>> 43bb348532f5aa2ce3e807e03dc329f184895f34:python_prgms/20191209/nani/Python3_Notebooks/learn-python3/notebooks/beginner/notebooks/strings.ipynb
   "metadata": {},
   "outputs": [],
   "source": [
    "cool_python_libs = pandas + ', ' + numpy + ', ' + requests\n",
    "print('Some cool python libraries: {}'.format(cool_python_libs))\n",
    "\n",
    "cool_python_libs = pandas\n",
    "cool_python_libs += ', ' + numpy\n",
    "cool_python_libs += ', ' + requests\n",
    "print('Some cool python libraries: {}'.format(cool_python_libs))"
   ]
  },
  {
   "cell_type": "markdown",
   "metadata": {},
   "source": [
    "## `str.upper(), str.lower(), str.title()`"
   ]
  },
  {
   "cell_type": "code",
<<<<<<< HEAD:python_prgms/20191209/Python3_Notebooks/learn-python3/notebooks/beginner/notebooks/strings.ipynb
   "execution_count": null,
=======
   "execution_count": 42,
>>>>>>> 43bb348532f5aa2ce3e807e03dc329f184895f34:python_prgms/20191209/nani/Python3_Notebooks/learn-python3/notebooks/beginner/notebooks/strings.ipynb
   "metadata": {},
   "outputs": [],
   "source": [
    "mixed_case = 'PyTHoN hackER'"
   ]
  },
  {
   "cell_type": "code",
<<<<<<< HEAD:python_prgms/20191209/Python3_Notebooks/learn-python3/notebooks/beginner/notebooks/strings.ipynb
   "execution_count": null,
   "metadata": {},
   "outputs": [],
=======
   "execution_count": 43,
   "metadata": {},
   "outputs": [
    {
     "data": {
      "text/plain": [
       "'PYTHON HACKER'"
      ]
     },
     "execution_count": 43,
     "metadata": {},
     "output_type": "execute_result"
    }
   ],
>>>>>>> 43bb348532f5aa2ce3e807e03dc329f184895f34:python_prgms/20191209/nani/Python3_Notebooks/learn-python3/notebooks/beginner/notebooks/strings.ipynb
   "source": [
    "mixed_case.upper()"
   ]
  },
  {
   "cell_type": "code",
<<<<<<< HEAD:python_prgms/20191209/Python3_Notebooks/learn-python3/notebooks/beginner/notebooks/strings.ipynb
   "execution_count": null,
   "metadata": {},
   "outputs": [],
=======
   "execution_count": 44,
   "metadata": {},
   "outputs": [
    {
     "data": {
      "text/plain": [
       "'python hacker'"
      ]
     },
     "execution_count": 44,
     "metadata": {},
     "output_type": "execute_result"
    }
   ],
>>>>>>> 43bb348532f5aa2ce3e807e03dc329f184895f34:python_prgms/20191209/nani/Python3_Notebooks/learn-python3/notebooks/beginner/notebooks/strings.ipynb
   "source": [
    "mixed_case.lower()"
   ]
  },
  {
   "cell_type": "code",
<<<<<<< HEAD:python_prgms/20191209/Python3_Notebooks/learn-python3/notebooks/beginner/notebooks/strings.ipynb
   "execution_count": null,
   "metadata": {},
   "outputs": [],
=======
   "execution_count": 45,
   "metadata": {},
   "outputs": [
    {
     "data": {
      "text/plain": [
       "'Python Hacker'"
      ]
     },
     "execution_count": 45,
     "metadata": {},
     "output_type": "execute_result"
    }
   ],
>>>>>>> 43bb348532f5aa2ce3e807e03dc329f184895f34:python_prgms/20191209/nani/Python3_Notebooks/learn-python3/notebooks/beginner/notebooks/strings.ipynb
   "source": [
    "mixed_case.title()"
   ]
  },
  {
   "cell_type": "markdown",
   "metadata": {},
   "source": [
    "## `str.strip()`"
   ]
  },
  {
   "cell_type": "code",
<<<<<<< HEAD:python_prgms/20191209/Python3_Notebooks/learn-python3/notebooks/beginner/notebooks/strings.ipynb
   "execution_count": null,
=======
   "execution_count": 47,
>>>>>>> 43bb348532f5aa2ce3e807e03dc329f184895f34:python_prgms/20191209/nani/Python3_Notebooks/learn-python3/notebooks/beginner/notebooks/strings.ipynb
   "metadata": {},
   "outputs": [],
   "source": [
    "ugly_formatted = ' \\n \\r \\t Some story to tell '\n",
    "stripped = ugly_formatted.strip()\n",
    "\n",
    "print('ugly: {}'.format(ugly_formatted))\n",
    "print('stripped: {}'.format(ugly_formatted.strip()))"
   ]
  },
  {
   "cell_type": "markdown",
   "metadata": {},
   "source": [
    "## `str.split()`"
   ]
  },
  {
   "cell_type": "code",
<<<<<<< HEAD:python_prgms/20191209/Python3_Notebooks/learn-python3/notebooks/beginner/notebooks/strings.ipynb
   "execution_count": 11,
=======
   "execution_count": 50,
>>>>>>> 43bb348532f5aa2ce3e807e03dc329f184895f34:python_prgms/20191209/nani/Python3_Notebooks/learn-python3/notebooks/beginner/notebooks/strings.ipynb
   "metadata": {},
   "outputs": [
    {
     "name": "stdout",
     "output_type": "stream",
     "text": [
<<<<<<< HEAD:python_prgms/20191209/Python3_Notebooks/learn-python3/notebooks/beginner/notebooks/strings.ipynb
      "India-is-my-country\n"
=======
      "['thr', '', '', '', '', '', '', '', ' diff', 'r', 'nt words']\n"
>>>>>>> 43bb348532f5aa2ce3e807e03dc329f184895f34:python_prgms/20191209/nani/Python3_Notebooks/learn-python3/notebooks/beginner/notebooks/strings.ipynb
     ]
    }
   ],
   "source": [
    "sentence = 'threeeeeeee different words'\n",
    "words = sentence.split('e')\n",
    "#print(words)\n",
    "my_string = \"India is my country\"\n",
    "#print(my_string.split(' '))\n",
    "print( \"-\".join(my_string.split()))"
   ]
  },
  {
   "cell_type": "code",
<<<<<<< HEAD:python_prgms/20191209/Python3_Notebooks/learn-python3/notebooks/beginner/notebooks/strings.ipynb
   "execution_count": null,
   "metadata": {},
   "outputs": [],
=======
   "execution_count": 51,
   "metadata": {},
   "outputs": [
    {
     "data": {
      "text/plain": [
       "list"
      ]
     },
     "execution_count": 51,
     "metadata": {},
     "output_type": "execute_result"
    }
   ],
>>>>>>> 43bb348532f5aa2ce3e807e03dc329f184895f34:python_prgms/20191209/nani/Python3_Notebooks/learn-python3/notebooks/beginner/notebooks/strings.ipynb
   "source": [
    "type(words)"
   ]
  },
  {
   "cell_type": "code",
   "execution_count": null,
<<<<<<< HEAD:python_prgms/20191209/Python3_Notebooks/learn-python3/notebooks/beginner/notebooks/strings.ipynb
   "metadata": {},
   "outputs": [],
=======
   "metadata": {},
   "outputs": [],
   "source": [
    "secret_binary_data = '01001,101101,11100000'\n",
    "binaries = secret_binary_data.split(',')\n",
    "print(binaries)"
   ]
  },
  {
   "cell_type": "code",
   "execution_count": 55,
   "metadata": {},
   "outputs": [
    {
     "data": {
      "text/plain": [
       "'India-is-my-country'"
      ]
     },
     "execution_count": 55,
     "metadata": {},
     "output_type": "execute_result"
    }
   ],
>>>>>>> 43bb348532f5aa2ce3e807e03dc329f184895f34:python_prgms/20191209/nani/Python3_Notebooks/learn-python3/notebooks/beginner/notebooks/strings.ipynb
   "source": [
    "\"India is my country\"\n",
    "\n",
    "\"India-is-my-country\"\n",
    "\n",
    "my_str = \"India is my country\"\n",
    "my_str.replace(\" \",\"-\")\n",
    "\n",
    "# Achive the same thing using split and join functions\n",
    "\n",
    "\"-\".join(my_str.split())\n"
   ]
  },
  {
   "cell_type": "markdown",
   "metadata": {},
   "source": [
    "## Calling multiple methods in a row"
   ]
  },
  {
   "cell_type": "code",
<<<<<<< HEAD:python_prgms/20191209/Python3_Notebooks/learn-python3/notebooks/beginner/notebooks/strings.ipynb
   "execution_count": null,
=======
   "execution_count": 57,
>>>>>>> 43bb348532f5aa2ce3e807e03dc329f184895f34:python_prgms/20191209/nani/Python3_Notebooks/learn-python3/notebooks/beginner/notebooks/strings.ipynb
   "metadata": {},
   "outputs": [],
   "source": [
    "ugly_mixed_case = '   ThIS LooKs BAd '\n",
    "pretty = ugly_mixed_case.strip().lower().replace('bad', 'good')\n",
    "print(pretty)"
   ]
  },
  {
   "cell_type": "markdown",
   "metadata": {},
   "source": [
    "Note that execution order is from left to right. Thus, this won't work:"
   ]
  },
  {
   "cell_type": "code",
<<<<<<< HEAD:python_prgms/20191209/Python3_Notebooks/learn-python3/notebooks/beginner/notebooks/strings.ipynb
   "execution_count": null,
=======
   "execution_count": 62,
>>>>>>> 43bb348532f5aa2ce3e807e03dc329f184895f34:python_prgms/20191209/nani/Python3_Notebooks/learn-python3/notebooks/beginner/notebooks/strings.ipynb
   "metadata": {},
   "outputs": [],
   "source": [
    "pretty = ugly_mixed_case.replace('bad', 'good').strip().lower()\n",
    "print(pretty)"
   ]
  },
  {
   "cell_type": "code",
   "execution_count": 63,
   "metadata": {},
   "outputs": [],
   "source": [
    "a = 10 "
   ]
  },
  {
   "cell_type": "code",
   "execution_count": 64,
   "metadata": {},
   "outputs": [],
   "source": [
    "b = 20"
   ]
  },
  {
   "cell_type": "code",
   "execution_count": 65,
   "metadata": {},
   "outputs": [
    {
     "name": "stdout",
     "output_type": "stream",
     "text": [
      "30\n"
     ]
    }
   ],
   "source": [
    "c = a + b\n",
    "print(c)"
   ]
  },
  {
   "cell_type": "markdown",
   "metadata": {},
   "source": [
    "## [Escape characters](http://python-reference.readthedocs.io/en/latest/docs/str/escapes.html#escape-characters)"
   ]
  },
  {
   "cell_type": "code",
   "execution_count": 66,
   "metadata": {},
   "outputs": [
    {
     "name": "stdout",
     "output_type": "stream",
     "text": [
      "First line\n",
      "Second line\n"
     ]
    }
   ],
   "source": [
    "two_lines = 'First line\\nSecond line'\n",
    "print(two_lines)"
   ]
  },
  {
   "cell_type": "code",
   "execution_count": 67,
   "metadata": {},
   "outputs": [
    {
     "name": "stdout",
     "output_type": "stream",
     "text": [
      "\tThis will be indented\n"
     ]
    }
   ],
   "source": [
    "indented = '\\tThis will be indented'\n",
    "print(indented)"
   ]
  },
  {
   "cell_type": "code",
   "execution_count": null,
   "metadata": {},
   "outputs": [],
   "source": []
  }
 ],
 "metadata": {
  "kernelspec": {
   "display_name": "Python 3",
   "language": "python",
   "name": "python3"
  },
  "language_info": {
   "codemirror_mode": {
    "name": "ipython",
    "version": 3
   },
   "file_extension": ".py",
   "mimetype": "text/x-python",
   "name": "python",
   "nbconvert_exporter": "python",
   "pygments_lexer": "ipython3",
   "version": "3.7.3"
  }
 },
 "nbformat": 4,
 "nbformat_minor": 4
}
