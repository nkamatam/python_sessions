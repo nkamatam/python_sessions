{
 "cells": [
  {
   "cell_type": "markdown",
   "metadata": {},
   "source": [
    "# 1. Fill the missing pieces\n",
    "Fill the `____` parts in the code below."
   ]
  },
  {
   "cell_type": "code",
   "execution_count": 1,
   "metadata": {},
   "outputs": [],
   "source": [
    "words = ['PYTHON', 'JOHN', 'chEEse', 'hAm', 'DOE', '123']\n",
    "upper_case_words = []\n",
    "\n",
    "for words in words:\n",
    "    if  words.isupper():\n",
    "        upper_case_words.append(words)"
   ]
  },
  {
   "cell_type": "code",
   "execution_count": 2,
   "metadata": {
    "editable": false
   },
   "outputs": [],
   "source": [
    "assert upper_case_words == ['PYTHON', 'JOHN', 'DOE']"
   ]
  },
  {
   "cell_type": "markdown",
   "metadata": {},
   "source": [
    "# 2. Calculate the sum of dict values\n",
    "Calculate the sum of the values in `magic_dict` by taking only into account numeric values (hint: see [isinstance](https://docs.python.org/3/library/functions.html#isinstance)). "
   ]
  },
  {
   "cell_type": "code",
   "execution_count": 7,
   "metadata": {
    "editable": false
   },
   "outputs": [],
   "source": [
    "magic_dict = dict(val1=44, val2='secret value', val3=55.0, val4=1)"
   ]
  },
  {
   "cell_type": "code",
   "execution_count": 8,
   "metadata": {},
   "outputs": [
    {
     "name": "stdout",
     "output_type": "stream",
     "text": [
      "100.0\n"
     ]
    }
   ],
   "source": [
    "# Your implementation\n",
    "sum_of_values =sum(v for v in magic_dict.values() if isinstance (v,int) or isinstance (v,float))\n",
    "print(sum_of_values)"
   ]
  },
  {
   "cell_type": "code",
   "execution_count": 9,
   "metadata": {
    "editable": false
   },
   "outputs": [],
   "source": [
    "assert sum_of_values == 100"
   ]
  },
  {
   "cell_type": "markdown",
   "metadata": {},
   "source": [
    "# 3. Create a list of strings based on a list of numbers\n",
    "The rules:\n",
    "* If the number is a multiple of five and odd, the string should be `'five odd'`\n",
    "* If the number is a multiple of five and even, the string should be `'five even'`\n",
    "* If the number is odd, the string is `'odd'`\n",
    "* If the number is even, the string is `'even'`"
   ]
  },
  {
   "cell_type": "code",
   "execution_count": 12,
   "metadata": {
    "editable": false
   },
   "outputs": [],
   "source": [
    "numbers = [1, 3, 4, 6, 81, 80, 100, 95]"
   ]
  },
  {
   "cell_type": "code",
   "execution_count": 15,
   "metadata": {},
   "outputs": [
    {
     "name": "stdout",
     "output_type": "stream",
     "text": [
      "['odd', 'odd', 'even', 'even', 'odd', 'five even', 'five even', 'five odd']\n"
     ]
    }
   ],
   "source": [
    "# Your implementation\n",
    "my_list=[]\n",
    "\n",
    "\n",
    "#my_list = ['even' if number%2==0 else 'odd'for number 'five even' if number%=5 else 'five odd' ]\n",
    "for number in numbers:\n",
    "   # my_list.append()\n",
    "    if number %5==0 and number %2==1:\n",
    "        new_element = 'five odd'\n",
    "    elif number %5==0 and number %2==0:\n",
    "        new_element = 'five even'\n",
    "    elif number %2==0:\n",
    "        new_element = 'even'\n",
    "    else:\n",
    "        new_element = 'odd'\n",
    "    my_list.append(new_element)\n",
    "print(my_list)\n",
    "\n",
    "    \n",
    "    \n",
    "   \n",
    "    \n",
    "    \n",
    "\n",
    "    "
   ]
  },
  {
   "cell_type": "code",
   "execution_count": 16,
   "metadata": {
    "editable": false
   },
   "outputs": [],
   "source": [
    "assert my_list == ['odd', 'odd', 'even', 'even', 'odd', 'five even', 'five even', 'five odd']"
   ]
  },
  {
   "cell_type": "code",
   "execution_count": 14,
   "metadata": {},
   "outputs": [
    {
     "name": "stdout",
     "output_type": "stream",
     "text": [
      "Bad\n"
     ]
    }
   ],
   "source": [
    "a= 25\n",
    "if((a%2 == 0) and (a%5 ==0)):\n",
    "    print('Good')\n",
    "else:\n",
    "    print('Bad')\n",
    "    "
   ]
  },
  {
   "cell_type": "code",
   "execution_count": 2,
   "metadata": {},
   "outputs": [
    {
     "name": "stdout",
     "output_type": "stream",
     "text": [
      "5\n"
     ]
    }
   ],
   "source": [
    "a = 3\n",
    "b = 4\n",
    "c = 5\n",
    "if a>b:\n",
    "    if a>c:\n",
    "        print(a)\n",
    "    else:\n",
    "        print(c)\n",
    "else:\n",
    "    if b>c:\n",
    "        print(b)\n",
    "    \n",
    "    else:\n",
    "        print(c)"
   ]
  },
  {
   "cell_type": "code",
   "execution_count": 1,
   "metadata": {},
   "outputs": [
    {
     "name": "stdout",
     "output_type": "stream",
     "text": [
      "7\n"
     ]
    }
   ],
   "source": [
    "a=4\n",
    "b=5\n",
    "c=7\n",
    "d=6\n",
    "\n",
    "if a>b:\n",
    "    if a>c:\n",
    "        if a>d:\n",
    "            print(a)\n",
    "        else:\n",
    "            print(d)\n",
    "    else:\n",
    "        if c>d:\n",
    "            print(c)\n",
    "        else:\n",
    "            print(d)\n",
    "else:\n",
    "    if b>c:\n",
    "        if b>d:\n",
    "            print(b)\n",
    "        else:\n",
    "            print(d)\n",
    "    else:   \n",
    "        if c>d:\n",
    "            print(c)\n",
    "        else:\n",
    "            print(d)"
   ]
  },
  {
   "cell_type": "code",
   "execution_count": 69,
   "metadata": {},
   "outputs": [
    {
     "name": "stdout",
     "output_type": "stream",
     "text": [
      "[6, 87, 46, 54]\n",
      "Max from random =  87\n",
      "87\n"
     ]
    }
   ],
   "source": [
    "import random\n",
    "my_list = [random.randint(1,100) for i in range(4)]\n",
    "maxi = max(my_list)\n",
    "print(my_list)\n",
    "print (\"Max from random = \", maxi)\n",
    "a=my_list[0]\n",
    "b=my_list[1]\n",
    "c=my_list[2]\n",
    "d=my_list[3]\n",
    "\n",
    "if a>b:\n",
    "    if a>c:\n",
    "        if a>d:\n",
    "            print(a)\n",
    "        else:\n",
    "            print(d)\n",
    "    else:\n",
    "        if c>d:\n",
    "            print(c)\n",
    "        else:\n",
    "            print(d)\n",
    "else:\n",
    "    if b>c:\n",
    "        if b>d:\n",
    "            print(b)\n",
    "        else:\n",
    "            print(d)\n",
    "    else:   \n",
    "        if c>d:\n",
    "            print(c)\n",
    "        else:\n",
    "            print(d)"
   ]
  },
  {
   "cell_type": "code",
   "execution_count": 10,
   "metadata": {},
   "outputs": [],
   "source": [
    "numbers = [1, 3, 4, 6, 81, 80, 100, 95]"
   ]
  },
  {
   "cell_type": "code",
   "execution_count": 11,
   "metadata": {},
   "outputs": [
    {
     "name": "stdout",
     "output_type": "stream",
     "text": [
      "['odd', 'odd', 'even', 'even', 'odd', 'five even', 'five even', 'five odd']\n"
     ]
    }
   ],
   "source": [
    "my_list = []\n",
    "for number in numbers:\n",
    "    if number %5==0 and number %2==1:\n",
    "        new_element = 'five odd'\n",
    "    elif number %5==0 and number %2==0:\n",
    "        new_element = 'five even'\n",
    "    elif number %2==0:\n",
    "        new_element = 'even'\n",
    "    else:\n",
    "        new_element = 'odd'\n",
    "    my_list.append(new_element)\n",
    "print(my_list)"
   ]
  },
  {
   "cell_type": "code",
   "execution_count": null,
   "metadata": {},
   "outputs": [],
   "source": []
  }
 ],
 "metadata": {
  "kernelspec": {
   "display_name": "Python 3",
   "language": "python",
   "name": "python3"
  },
  "language_info": {
   "codemirror_mode": {
    "name": "ipython",
    "version": 3
   },
   "file_extension": ".py",
   "mimetype": "text/x-python",
   "name": "python",
   "nbconvert_exporter": "python",
   "pygments_lexer": "ipython3",
   "version": "3.7.4"
  }
 },
 "nbformat": 4,
 "nbformat_minor": 2
}
