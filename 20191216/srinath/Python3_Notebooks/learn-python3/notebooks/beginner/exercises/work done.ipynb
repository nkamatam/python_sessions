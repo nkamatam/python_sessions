{
 "cells": [
  {
   "cell_type": "code",
   "execution_count": 17,
   "metadata": {},
   "outputs": [
    {
     "name": "stdout",
     "output_type": "stream",
     "text": [
      "[76, 88, 96, 51, 93]\n",
      "Max from random = 96\n",
      "96\n"
     ]
    }
   ],
   "source": [
    "import random\n",
    "my_list =[random.randint(1,100) for i in range(5)]\n",
    "maxi = max(my_list)\n",
    "print(my_list)\n",
    "print('Max from random =',maxi)\n",
    "a=my_list[0]\n",
    "b=my_list[1]\n",
    "c=my_list[2]\n",
    "d=my_list[3]\n",
    "e=my_list[4]\n",
    "\n",
    "if a>b:\n",
    "    if a>c:\n",
    "        if a>d:\n",
    "            if a>e:\n",
    "                print(a)\n",
    "            else:\n",
    "                print(e)\n",
    "    else:\n",
    "        if c>d:\n",
    "            if c>e:\n",
    "                print(c)\n",
    "            else:\n",
    "                print(e)\n",
    "        else:\n",
    "            if d>e:\n",
    "                print(d)\n",
    "            else:\n",
    "                print(e)\n",
    "else:\n",
    "    if b>c:\n",
    "        if b>d:\n",
    "            if b>e:\n",
    "                print(b)\n",
    "            else:\n",
    "                print(e)\n",
    "    else:\n",
    "        if c>d:\n",
    "            if c>e:\n",
    "                print(c)\n",
    "            else:\n",
    "                print(e)\n",
    "        else:\n",
    "            if d>e:\n",
    "                print(d)\n",
    "            else:\n",
    "                print(e)\n",
    "            "
   ]
  },
  {
   "cell_type": "code",
   "execution_count": 6,
   "metadata": {},
   "outputs": [
    {
     "name": "stdout",
     "output_type": "stream",
     "text": [
      "2002,2009,2016,2023,2037,2044,2051,2058,2072,2079,2086,2093,2107,2114,2121,2128,2142,2149,2156,2163,2177,2184,2191,2198,2212,2219,2226,2233,2247,2254,2261,2268,2282,2289,2296,2303,2317,2324,2331,2338,2352,2359,2366,2373,2387,2394,2401,2408,2422,2429,2436,2443,2457,2464,2471,2478,2492,2499,2506,2513,2527,2534,2541,2548,2562,2569,2576,2583,2597,2604,2611,2618,2632,2639,2646,2653,2667,2674,2681,2688,2702,2709,2716,2723,2737,2744,2751,2758,2772,2779,2786,2793,2807,2814,2821,2828,2842,2849,2856,2863,2877,2884,2891,2898,2912,2919,2926,2933,2947,2954,2961,2968,2982,2989,2996,3003,3017,3024,3031,3038,3052,3059,3066,3073,3087,3094,3101,3108,3122,3129,3136,3143,3157,3164,3171,3178,3192,3199,\b\b\b\b\b\b\b\n"
     ]
    }
   ],
   "source": [
    "for x in range(2000,3201):\n",
    "    if x%7==0 and x%5!=0:\n",
    "        print(x,end=',')\n",
    "print('\\b'*7)\n"
   ]
  },
  {
   "cell_type": "code",
   "execution_count": 96,
   "metadata": {},
   "outputs": [
    {
     "name": "stdout",
     "output_type": "stream",
     "text": [
      "40320\n"
     ]
    }
   ],
   "source": [
    "n=8\n",
    "ft = 1\n",
    "for x in range(1,n+1):\n",
    "    ft = ft*x\n",
    "print(ft)"
   ]
  },
  {
   "cell_type": "code",
   "execution_count": 97,
   "metadata": {},
   "outputs": [
    {
     "name": "stdout",
     "output_type": "stream",
     "text": [
      "{1: 1, 2: 4, 3: 9, 4: 16, 5: 25, 6: 36, 7: 49, 8: 64}\n"
     ]
    }
   ],
   "source": [
    "n=8\n",
    "ans={x:x*x for x in range(1,n+1)}\n",
    "print(ans)"
   ]
  },
  {
   "cell_type": "code",
   "execution_count": 3,
   "metadata": {},
   "outputs": [
    {
     "name": "stdout",
     "output_type": "stream",
     "text": [
      "['odd', 'odd', 'even', 'even', 'odd', 'five even', 'five even', 'five odd']\n"
     ]
    }
   ],
   "source": [
    "numbers = [1,3,4,6,81,80,100,95]\n",
    "my_list=[]\n",
    "for number in numbers:\n",
    "    if number %5==0 and number %2==1:\n",
    "        new_element ='five odd'\n",
    "    elif number %5==0 and number %2==0:\n",
    "        new_element='five even'\n",
    "    elif number %2==0:\n",
    "        new_element='even'       \n",
    "    else:\n",
    "        new_element ='odd'\n",
    "    my_list.append(new_element)\n",
    "\n",
    "\n",
    "print(my_list)\n",
    "\n",
    "assert == ['odd','odd','even','even','odd','five even','five even','five odd']\n"
   ]
  },
  {
   "cell_type": "code",
   "execution_count": null,
   "metadata": {},
   "outputs": [],
   "source": []
  }
 ],
 "metadata": {
  "kernelspec": {
   "display_name": "Python 3",
   "language": "python",
   "name": "python3"
  },
  "language_info": {
   "codemirror_mode": {
    "name": "ipython",
    "version": 3
   },
   "file_extension": ".py",
   "mimetype": "text/x-python",
   "name": "python",
   "nbconvert_exporter": "python",
   "pygments_lexer": "ipython3",
   "version": "3.7.4"
  }
 },
 "nbformat": 4,
 "nbformat_minor": 2
}
