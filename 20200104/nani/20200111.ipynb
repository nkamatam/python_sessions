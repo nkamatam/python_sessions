{
 "cells": [
  {
   "cell_type": "markdown",
   "metadata": {},
   "source": [
    "## The parents dilemma\n",
    "### Problem :\n",
    "The Indian couples use the following algorithm when they want to book the movie tickets.\n",
    "If they have childern they never book a 2nd show. But when they do not, they only book a 2nd show. They always book a ticket for a kid if the kid is > 3 years old.\n",
    "\n",
    "You are given just the below two numbers :\n",
    "\n",
    "* first_kid_age <br>\n",
    "* second_kid_age\n",
    "\n",
    "[ If any of the above values is zero, it means that the baby is not yet born]\n",
    "\n",
    "Please write a program to help a husband and wife to follow the above algorithm to help them <br> (a) choose the show and <br> (b) number of tickets that needs to be booked\n",
    "\n",
    "Assume that as Indians, they will never have more than two kids."
   ]
  },
  {
   "cell_type": "code",
   "execution_count": 2,
   "metadata": {},
   "outputs": [
    {
     "name": "stdout",
     "output_type": "stream",
     "text": [
      "Don't book 2nd show\n",
      "You have to book  2  tickets\n"
     ]
    }
   ],
   "source": [
    "first_kid_age = 0\n",
    "second_kid_age = 3\n",
    "\n",
    "\n",
    "# Show\n",
    "if (first_kid_age == 0 and second_kid_age == 0):\n",
    "    print(\"Book 2nd show\")\n",
    "else:\n",
    "    print(\"Don't book 2nd show\")\n",
    "\n",
    "\n",
    "# Number of tickets\n",
    "\n",
    "number_of_tickets = 2\n",
    "if (first_kid_age != 0 and first_kid_age > 3):\n",
    "    number_of_tickets += 1\n",
    "if (second_kid_age != 0 and second_kid_age > 3):\n",
    "    number_of_tickets = number_of_tickets + 1\n",
    "\n",
    "print (\"You have to book \", number_of_tickets , \" tickets\")\n"
   ]
  },
  {
   "cell_type": "code",
   "execution_count": null,
   "metadata": {},
   "outputs": [],
   "source": [
    "# Number of tickets\n",
    "\n",
    "number_of_tickets = 2\n",
    "if (first_kid_age != 0 and second_kid_age !=0):\n",
    "    number_of_tickets += 2\n",
    "if (first_kid_age != 0 and second_kid_age == 0):\n",
    "    number_of_tickets = number_of_tickets + 1\n",
    "if (first_kid_age == 0 and second_kid_age != 0):\n",
    "    number_of_tickets = number_of_tickets + 1\n",
    "\n",
    "print (\"You have to book \", number_of_tickets , \" tickets\")\n",
    "\n",
    "\n",
    "    "
   ]
  },
  {
   "cell_type": "code",
   "execution_count": 7,
   "metadata": {},
   "outputs": [
    {
     "name": "stdout",
     "output_type": "stream",
     "text": [
      "I love the sky\n"
     ]
    }
   ],
   "source": [
    "fav_color = \"blue\"\n",
    "\n",
    "if (fav_color == \"green\"):\n",
    "    print (\"I love Shrek\")\n",
    "elif (fav_color == \"blue\"):\n",
    "    print (\"I love the sky\")\n",
    "elif (fav_color == \"red\"):\n",
    "    print(\"I will be a doctor\")\n",
    "elif (fav_color == \"white\"):\n",
    "    print(\"I will be a nurse\")\n",
    "else:\n",
    "    print(\"I can be anything\")\n",
    "\n"
   ]
  },
  {
   "cell_type": "markdown",
   "metadata": {},
   "source": [
    "## For loop"
   ]
  },
  {
   "cell_type": "code",
   "execution_count": 1,
   "metadata": {},
   "outputs": [
    {
     "name": "stdout",
     "output_type": "stream",
     "text": [
      "====\n",
      "asasdasda\n",
      "====\n",
      "asasdasda\n",
      "====\n",
      "asasdasda\n"
     ]
    }
   ],
   "source": [
    "for my_number in range(1,5+1):\n",
    "   # print(my_number)\n",
    "    if (my_number == 1 or my_number == 2 or my_number ==3):\n",
    "        print (\"====\")\n",
    "        print (\"asasdasda\")"
   ]
  },
  {
   "cell_type": "code",
   "execution_count": 4,
   "metadata": {},
   "outputs": [
    {
     "name": "stdout",
     "output_type": "stream",
     "text": [
      "55\n"
     ]
    }
   ],
   "source": [
    "sum_of_numbers = 0 \n",
    "for i in range (1,11):\n",
    "    # evaluating the sum in each loop\n",
    "    sum_of_numbers += i\n",
    "print(sum_of_numbers)"
   ]
  },
  {
   "cell_type": "code",
   "execution_count": null,
   "metadata": {},
   "outputs": [],
   "source": [
    "# Print the sum of all odd numbers < 10 \n"
   ]
  },
  {
   "cell_type": "code",
   "execution_count": 3,
   "metadata": {},
   "outputs": [
    {
     "name": "stdin",
     "output_type": "stream",
     "text": [
      " 5\n"
     ]
    },
    {
     "name": "stdout",
     "output_type": "stream",
     "text": [
      "It is an odd number\n"
     ]
    }
   ],
   "source": [
    "n = int(input())\n",
    "\n",
    "if ( n %2 == 1):\n",
    "    print (\"It is an odd number\")\n",
    "else:\n",
    "    print (\"it is an even number\")\n"
   ]
  },
  {
   "cell_type": "code",
   "execution_count": 4,
   "metadata": {},
   "outputs": [
    {
     "name": "stdout",
     "output_type": "stream",
     "text": [
      "25\n"
     ]
    }
   ],
   "source": [
    "sum_of_numbers = 0 \n",
    "for i in range (1,11):\n",
    "    if ( i %2 == 1):\n",
    "        sum_of_numbers = sum_of_numbers + i\n",
    "print(sum_of_numbers)"
   ]
  },
  {
   "cell_type": "code",
   "execution_count": null,
   "metadata": {},
   "outputs": [],
   "source": []
  }
 ],
 "metadata": {
  "kernelspec": {
   "display_name": "Python 3",
   "language": "python",
   "name": "python3"
  },
  "language_info": {
   "codemirror_mode": {
    "name": "ipython",
    "version": 3
   },
   "file_extension": ".py",
   "mimetype": "text/x-python",
   "name": "python",
   "nbconvert_exporter": "python",
   "pygments_lexer": "ipython3",
   "version": "3.7.3"
  }
 },
 "nbformat": 4,
 "nbformat_minor": 4
}
