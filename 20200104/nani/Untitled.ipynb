{
 "cells": [
  {
   "cell_type": "code",
   "execution_count": 2,
   "metadata": {},
   "outputs": [
    {
     "name": "stdout",
     "output_type": "stream",
     "text": [
      "20\n"
     ]
    }
   ],
   "source": [
    "# Greatest of three numbers \n",
    "\n",
    "a = 10\n",
    "b = 20\n",
    "c = 3\n",
    "\n",
    "if (a>b):\n",
    "    if (a>c):\n",
    "        print(a)\n",
    "    else:\n",
    "        print(c)\n",
    "else:\n",
    "    if (b>c):\n",
    "        print(b)\n",
    "    else:\n",
    "        print(c)\n",
    "\n",
    "\n"
   ]
  },
  {
   "cell_type": "code",
   "execution_count": 1,
   "metadata": {},
   "outputs": [
    {
     "name": "stdout",
     "output_type": "stream",
     "text": [
      "Welcome to the mariiage validity Check program\n",
      "-=========================================-\n"
     ]
    },
    {
     "name": "stdin",
     "output_type": "stream",
     "text": [
      "Enter the man's age:  20\n",
      "Enter the woman's age:  12\n"
     ]
    },
    {
     "name": "stdout",
     "output_type": "stream",
     "text": [
      "illegal\n"
     ]
    }
   ],
   "source": [
    "# For marriage\n",
    "# MAle has to be 21 or more\n",
    "# Female 18 or more \n",
    "print(\"Welcome to the mariiage validity Check program\")\n",
    "print(\"-=========================================-\")\n",
    "m_age = int(input(\"Enter the man's age: \"))\n",
    "f_age = int(input(\"Enter the woman's age: \"))\n",
    "\n",
    "if (m_age>21 and f_age > 18):\n",
    "    print(\"legal\")\n",
    "else:\n",
    "    print(\"illegal\")\n"
   ]
  },
  {
   "cell_type": "code",
   "execution_count": 2,
   "metadata": {},
   "outputs": [
    {
     "name": "stdout",
     "output_type": "stream",
     "text": [
      "Bumper Hit\n"
     ]
    }
   ],
   "source": [
    "# Bollywood Tamasha\n",
    "\n",
    "# If age of hero is > 50 then he is a char artist\n",
    "# else acceptable hero\n",
    "# if age of a heroine > 30 then she is a char artist\n",
    "#  else an acceptable heroine \n",
    "# if age_hero > age_heroine by 20 years, movie is a bumper hit\n",
    "\n",
    "age_hero = 49\n",
    "age_heroine = 24\n",
    "\n",
    "\"OK\"\n",
    "\"Bumper hit\"\n",
    "\"No to hero\"\n",
    "\"No to heroine\"\n",
    "\n",
    "# Partial Solution to the problem\n",
    "\n",
    "if ( age_hero < 50):\n",
    "    if (age_heroine <30):\n",
    "        if (age_hero - age_heroine > 20):\n",
    "            print (\"Bumper Hit\")\n",
    "        else:\n",
    "            print(\"OK\")\n",
    "    else:\n",
    "        print(\"No to Heroine\")\n",
    "else:\n",
    "    print(\"No to Hero\")\n",
    "    if (age_heroine > 30):\n",
    "        print(\"No to Heroine\")"
   ]
  },
  {
   "cell_type": "markdown",
   "metadata": {},
   "source": [
    "The parents dilemma\n",
    "Problem :\n",
    "The Indian couples use the following algorithm when they want to book the movie tickets. If they have childern they never book a 2nd show. But when they do not, they only book a 2nd show. They always book a ticket for a kid if the kid is > 3 years old.\n",
    "\n",
    "You are given just the below two numbers :\n",
    "\n",
    "first_kid_age\n",
    "second_kid_age\n",
    "[ If any of the above values is zero, it means that the baby is not yet born]\n",
    "\n",
    "Please write a program to help a husband and wife to follow the above algorithm to help them\n",
    "(a) choose the show and\n",
    "(b) number of tickets that needs to be booked\n",
    "\n",
    "Assume that as Indians, they will never have more than two kids."
   ]
  },
  {
   "cell_type": "code",
   "execution_count": null,
   "metadata": {},
   "outputs": [],
   "source": []
  }
 ],
 "metadata": {
  "kernelspec": {
   "display_name": "Python 3",
   "language": "python",
   "name": "python3"
  },
  "language_info": {
   "codemirror_mode": {
    "name": "ipython",
    "version": 3
   },
   "file_extension": ".py",
   "mimetype": "text/x-python",
   "name": "python",
   "nbconvert_exporter": "python",
   "pygments_lexer": "ipython3",
   "version": "3.7.3"
  }
 },
 "nbformat": 4,
 "nbformat_minor": 4
}
