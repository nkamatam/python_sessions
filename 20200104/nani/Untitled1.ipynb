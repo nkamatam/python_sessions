{
 "cells": [
  {
   "cell_type": "code",
   "execution_count": 13,
   "metadata": {},
   "outputs": [
    {
     "name": "stderr",
     "output_type": "stream",
     "text": [
      "input_line_26:7:25: error: use of undeclared identifier 'cout'\n",
      "    if ( a> b){if (a>c){cout(a);}else{cout(c);}}\n",
      "                        ^\n",
      "input_line_26:7:39: error: use of undeclared identifier 'cout'\n",
      "    if ( a> b){if (a>c){cout(a);}else{cout(c);}}\n",
      "                                      ^\n"
     ]
    },
    {
     "ename": "Interpreter Error",
     "evalue": "",
     "output_type": "error",
     "traceback": [
      "Interpreter Error: "
     ]
    }
   ],
   "source": [
    "#include  <stdio.h>\n",
    "\n",
    "int main(void)\n",
    "{\n",
    "    int a,b,c;\n",
    "    a = 10;\n",
    "    b = 2;\n",
    "    c = 3;\n",
    "    if ( a> b)\n",
    "    {\n",
    "        if (a>c){\n",
    "            cout(a);\n",
    "        }\n",
    "    else\n",
    "        {\n",
    "            cout(c);\n",
    "        }\n",
    "    }\n",
    "    return(1);\n",
    "}"
   ]
  },
  {
   "cell_type": "code",
   "execution_count": null,
   "metadata": {},
   "outputs": [],
   "source": []
  }
 ],
 "metadata": {
  "kernelspec": {
   "display_name": "C++11",
   "language": "C++11",
   "name": "xcpp11"
  },
  "language_info": {
   "codemirror_mode": "text/x-c++src",
   "file_extension": ".cpp",
   "mimetype": "text/x-c++src",
   "name": "c++",
   "version": "-std=c++11"
  }
 },
 "nbformat": 4,
 "nbformat_minor": 4
}
