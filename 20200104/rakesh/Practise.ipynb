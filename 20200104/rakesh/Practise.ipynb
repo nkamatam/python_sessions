{
 "cells": [
  {
   "cell_type": "code",
   "execution_count": 6,
   "metadata": {},
   "outputs": [
    {
     "name": "stdout",
     "output_type": "stream",
     "text": [
      "i love to be cool\n"
     ]
    }
   ],
   "source": [
    "fav_color = \" blue \"\n",
    "\n",
    "if (fav_color == \" blue \"):\n",
    "    print(\"i love to be cool\")\n",
    "elif(fav_color == \"green\"):\n",
    "    print(\" i am postive\")\n",
    "elif(fav_color == \"red\"):\n",
    "    print(\"I can be anything\")\n",
    "\n"
   ]
  },
  {
   "cell_type": "code",
   "execution_count": 3,
   "metadata": {},
   "outputs": [
    {
     "name": "stdout",
     "output_type": "stream",
     "text": [
      "I love the sky\n"
     ]
    }
   ],
   "source": [
    "fav_color = \"blue\"\n",
    "\n",
    "if (fav_color == \"green\"):\n",
    "    print (\"I love Shrek\")\n",
    "elif (fav_color == \"blue\"):\n",
    "    print (\"I love the sky\")\n",
    "elif (fav_color == \"red\"):\n",
    "    print(\"I will be a doctor\")\n",
    "elif (fav_color == \"white\"):\n",
    "    print(\"I will be a nurse\")\n",
    "else:\n",
    "    print(\"I can be anything\")\n"
   ]
  },
  {
   "cell_type": "code",
   "execution_count": null,
   "metadata": {},
   "outputs": [],
   "source": [
    "# for loop"
   ]
  },
  {
   "cell_type": "code",
   "execution_count": 9,
   "metadata": {},
   "outputs": [
    {
     "name": "stdout",
     "output_type": "stream",
     "text": [
      "55\n"
     ]
    }
   ],
   "source": [
    "sum_of_numbers = 0\n",
    "\n",
    "for i in range(1,11):\n",
    "    sum_of_numbers += i\n",
    "print(sum_of_numbers)\n"
   ]
  },
  {
   "cell_type": "code",
   "execution_count": 18,
   "metadata": {},
   "outputs": [
    {
     "name": "stdin",
     "output_type": "stream",
     "text": [
      " 5\n"
     ]
    },
    {
     "name": "stdout",
     "output_type": "stream",
     "text": [
      "it is an odd number\n"
     ]
    }
   ],
   "source": [
    "n = int(input())\n",
    "\n",
    "if (n % 2 == 1):\n",
    "    print(\"it is an odd number\")\n",
    "else:\n",
    "    print(\"it is an even number\")\n"
   ]
  },
  {
   "cell_type": "code",
   "execution_count": 15,
   "metadata": {},
   "outputs": [
    {
     "name": "stdin",
     "output_type": "stream",
     "text": [
      " 3\n"
     ]
    },
    {
     "name": "stdout",
     "output_type": "stream",
     "text": [
      "It is an odd number\n"
     ]
    }
   ],
   "source": [
    "n = int(input())\n",
    "\n",
    "if ( n %2 == 1):\n",
    "    print (\"It is an odd number\")\n",
    "else:\n",
    "    print (\"it is an even number\")"
   ]
  },
  {
   "cell_type": "code",
   "execution_count": 19,
   "metadata": {},
   "outputs": [
    {
     "name": "stdin",
     "output_type": "stream",
     "text": [
      " 4\n"
     ]
    },
    {
     "name": "stdout",
     "output_type": "stream",
     "text": [
      "its an even no\n"
     ]
    }
   ],
   "source": [
    "n = int(input())\n",
    "\n",
    "if (n%2!=1):\n",
    "    print(\"its an even no\")\n",
    "else:\n",
    "    print(\"its an odd no\")"
   ]
  },
  {
   "cell_type": "code",
   "execution_count": 20,
   "metadata": {},
   "outputs": [
    {
     "name": "stdout",
     "output_type": "stream",
     "text": [
      "hello\n",
      "hi\n",
      "hello\n",
      "hi\n",
      "hello\n",
      "hi\n"
     ]
    }
   ],
   "source": [
    "for my_num in range(1,6):\n",
    "\n",
    "    if (my_num ==1 or my_num==2 or my_num==3):\n",
    "        print(\"hello\")\n",
    "        print(\"hi\")"
   ]
  },
  {
   "cell_type": "code",
   "execution_count": 21,
   "metadata": {},
   "outputs": [
    {
     "name": "stdout",
     "output_type": "stream",
     "text": [
      "====\n",
      "asasdasda\n",
      "====\n",
      "asasdasda\n",
      "====\n",
      "asasdasda\n"
     ]
    }
   ],
   "source": [
    "for my_number in range(1,5+1):\n",
    "   # print(my_number)\n",
    "    if (my_number == 1 or my_number == 2 or my_number ==3):\n",
    "        print (\"====\")\n",
    "        print (\"asasdasda\")"
   ]
  },
  {
   "cell_type": "code",
   "execution_count": null,
   "metadata": {},
   "outputs": [],
   "source": []
  }
 ],
 "metadata": {
  "kernelspec": {
   "display_name": "Python 3",
   "language": "python",
   "name": "python3"
  },
  "language_info": {
   "codemirror_mode": {
    "name": "ipython",
    "version": 3
   },
   "file_extension": ".py",
   "mimetype": "text/x-python",
   "name": "python",
   "nbconvert_exporter": "python",
   "pygments_lexer": "ipython3",
   "version": "3.7.3"
  }
 },
 "nbformat": 4,
 "nbformat_minor": 4
}
