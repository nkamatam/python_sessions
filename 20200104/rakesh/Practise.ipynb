{
 "cells": [
  {
   "cell_type": "code",
   "execution_count": 6,
   "metadata": {},
   "outputs": [
    {
     "name": "stdout",
     "output_type": "stream",
     "text": [
      "i love to be cool\n"
     ]
    }
   ],
   "source": [
    "fav_color = \" blue \"\n",
    "\n",
    "if (fav_color == \" blue \"):\n",
    "    print(\"i love to be cool\")\n",
    "elif(fav_color == \"green\"):\n",
    "    print(\" i am postive\")\n",
    "elif(fav_color == \"red\"):\n",
    "    print(\"I can be anything\")\n",
    "\n"
   ]
  },
  {
   "cell_type": "code",
   "execution_count": 3,
   "metadata": {},
   "outputs": [
    {
     "name": "stdout",
     "output_type": "stream",
     "text": [
      "I love the sky\n"
     ]
    }
   ],
   "source": [
    "fav_color = \"blue\"\n",
    "\n",
    "if (fav_color == \"green\"):\n",
    "    print (\"I love Shrek\")\n",
    "elif (fav_color == \"blue\"):\n",
    "    print (\"I love the sky\")\n",
    "elif (fav_color == \"red\"):\n",
    "    print(\"I will be a doctor\")\n",
    "elif (fav_color == \"white\"):\n",
    "    print(\"I will be a nurse\")\n",
    "else:\n",
    "    print(\"I can be anything\")\n"
   ]
  },
  {
   "cell_type": "code",
   "execution_count": null,
   "metadata": {},
   "outputs": [],
   "source": [
    "# for loop"
   ]
  },
  {
   "cell_type": "code",
   "execution_count": 9,
   "metadata": {},
   "outputs": [
    {
     "name": "stdout",
     "output_type": "stream",
     "text": [
      "55\n"
     ]
    }
   ],
   "source": [
    "sum_of_numbers = 0\n",
    "\n",
    "for i in range(1,11):\n",
    "    sum_of_numbers += i\n",
    "print(sum_of_numbers)\n"
   ]
  },
  {
   "cell_type": "code",
   "execution_count": 18,
   "metadata": {},
   "outputs": [
    {
     "name": "stdin",
     "output_type": "stream",
     "text": [
      " 5\n"
     ]
    },
    {
     "name": "stdout",
     "output_type": "stream",
     "text": [
      "it is an odd number\n"
     ]
    }
   ],
   "source": [
    "n = int(input())\n",
    "\n",
    "if (n % 2 == 1):\n",
    "    print(\"it is an odd number\")\n",
    "else:\n",
    "    print(\"it is an even number\")\n"
   ]
  },
  {
   "cell_type": "code",
   "execution_count": 15,
   "metadata": {},
   "outputs": [
    {
     "name": "stdin",
     "output_type": "stream",
     "text": [
      " 3\n"
     ]
    },
    {
     "name": "stdout",
     "output_type": "stream",
     "text": [
      "It is an odd number\n"
     ]
    }
   ],
   "source": [
    "n = int(input())\n",
    "\n",
    "if ( n %2 == 1):\n",
    "    print (\"It is an odd number\")\n",
    "else:\n",
    "    print (\"it is an even number\")"
   ]
  },
  {
   "cell_type": "code",
   "execution_count": 19,
   "metadata": {},
   "outputs": [
    {
     "name": "stdin",
     "output_type": "stream",
     "text": [
      " 4\n"
     ]
    },
    {
     "name": "stdout",
     "output_type": "stream",
     "text": [
      "its an even no\n"
     ]
    }
   ],
   "source": [
    "n = int(input())\n",
    "\n",
    "if (n%2!=1):\n",
    "    print(\"its an even no\")\n",
    "else:\n",
    "    print(\"its an odd no\")"
   ]
  },
  {
   "cell_type": "code",
   "execution_count": 20,
   "metadata": {},
   "outputs": [
    {
     "name": "stdout",
     "output_type": "stream",
     "text": [
      "hello\n",
      "hi\n",
      "hello\n",
      "hi\n",
      "hello\n",
      "hi\n"
     ]
    }
   ],
   "source": [
    "for my_num in range(1,6):\n",
    "\n",
    "    if (my_num ==1 or my_num==2 or my_num==3):\n",
    "        print(\"hello\")\n",
    "        print(\"hi\")"
   ]
  },
  {
   "cell_type": "code",
   "execution_count": 21,
   "metadata": {},
   "outputs": [
    {
     "name": "stdout",
     "output_type": "stream",
     "text": [
      "====\n",
      "asasdasda\n",
      "====\n",
      "asasdasda\n",
      "====\n",
      "asasdasda\n"
     ]
    }
   ],
   "source": [
    "for my_number in range(1,5+1):\n",
    "   # print(my_number)\n",
    "    if (my_number == 1 or my_number == 2 or my_number ==3):\n",
    "        print (\"====\")\n",
    "        print (\"asasdasda\")"
   ]
  },
  {
   "cell_type": "code",
   "execution_count": 1,
   "metadata": {},
   "outputs": [
    {
     "name": "stdin",
     "output_type": "stream",
     "text": [
      "enter the first number: 2\n",
      "enter the second number: 3\n"
     ]
    },
    {
     "name": "stdout",
     "output_type": "stream",
     "text": [
      "5\n"
     ]
    }
   ],
   "source": [
    "# Write a program to add 2 number\n",
    "\n",
    "var1 = int(input(\"enter the first number:\"))\n",
    "var2 = int(input(\"enter the second number:\"))\n",
    "\n",
    "print(var1 + var2)"
   ]
  },
  {
   "cell_type": "code",
   "execution_count": 2,
   "metadata": {},
   "outputs": [
    {
     "name": "stdin",
     "output_type": "stream",
     "text": [
      "enter the first number: 4\n",
      "enter the second number: 7\n"
     ]
    },
    {
     "name": "stdout",
     "output_type": "stream",
     "text": [
      "7\n"
     ]
    }
   ],
   "source": [
    "# write a program to find largest of 2 numbers\n",
    "\n",
    "a = int(input(\"enter the first number:\"))\n",
    "b = int(input(\"enter the second number:\"))\n",
    "\n",
    "if(a>b):\n",
    "    print(a)\n",
    "else:\n",
    "    print(b)\n",
    "\n"
   ]
  },
  {
   "cell_type": "code",
   "execution_count": 1,
   "metadata": {},
   "outputs": [
    {
     "name": "stdin",
     "output_type": "stream",
     "text": [
      "enter the first number: 10\n",
      "enter the second number: 30\n",
      "enter the second number: 40\n"
     ]
    },
    {
     "name": "stdout",
     "output_type": "stream",
     "text": [
      "40\n"
     ]
    }
   ],
   "source": [
    "# write a program to find largest of 3 numbers\n",
    "\n",
    "a = int(input(\"enter the first number:\"))\n",
    "b = int(input(\"enter the second number:\"))\n",
    "c = int(input(\"enter the second number:\"))\n",
    "\n",
    "if(a>b):\n",
    "    if(a>c):\n",
    "        print(a)\n",
    "    else:\n",
    "        print(c)\n",
    "else:\n",
    "    if(b>c):\n",
    "        print(b)\n",
    "    else:\n",
    "        print(c)\n",
    "    \n"
   ]
  },
  {
   "cell_type": "markdown",
   "metadata": {},
   "source": [
    "# "
   ]
  },
  {
   "cell_type": "code",
   "execution_count": null,
   "metadata": {},
   "outputs": [],
   "source": [
    "salary = int(input(\"Enter your salary\"))\n",
    "\n",
    "if(salary>500000):\n",
    "    print(\"no tax\")\n",
    "\n"
   ]
  },
  {
   "cell_type": "code",
   "execution_count": 2,
   "metadata": {},
   "outputs": [
    {
     "name": "stdin",
     "output_type": "stream",
     "text": [
      "enter number 5\n"
     ]
    },
    {
     "name": "stdout",
     "output_type": "stream",
     "text": [
      "factorial of 5 is 120\n"
     ]
    }
   ],
   "source": [
    "#factorial of 6 is 6*5*4*3*2*1 = 720\n",
    "\n",
    "input_num = int(input(\"enter number\"))\n",
    "factorial = 1\n",
    "for i in range(1,input_num+1):\n",
    "    factorial = factorial * i\n",
    "print(\"factorial of\", input_num, \"is\", factorial)\n",
    "    "
   ]
  },
  {
   "cell_type": "code",
   "execution_count": 3,
   "metadata": {},
   "outputs": [
    {
     "name": "stdin",
     "output_type": "stream",
     "text": [
      "enter your salary 1200000\n"
     ]
    },
    {
     "name": "stdout",
     "output_type": "stream",
     "text": [
      "tax is  90000.0\n"
     ]
    }
   ],
   "source": [
    "salary = int(input(\"enter your salary\"))\n",
    "total_tax = 0\n",
    "\n",
    "if(salary<500000):\n",
    "    print(\"no tax\")\n",
    "if(salary>500000 and salary<1000000):\n",
    "    salary = salary - 500000\n",
    "    total_tax = (10*salary)/100\n",
    "    print(\"tax is \", int(total_tax))\n",
    "if(salary>1000000 and salary<1500000):\n",
    "    salary = salary-1000000\n",
    "    total_tax = (20*salary)/100 +50000\n",
    "    print(\"tax is \", total_tax)\n",
    "if(salary>1500000):\n",
    "    salary = salary-1500000\n",
    "    total_tax = (20*salary)/100 +150000\n",
    "    print(\"tax is \", total_tax)\n",
    "    \n",
    "    \n",
    "    \n"
   ]
  },
  {
   "cell_type": "code",
   "execution_count": 9,
   "metadata": {},
   "outputs": [
    {
     "name": "stdin",
     "output_type": "stream",
     "text": [
      " 48\n",
      " 28\n"
     ]
    },
    {
     "name": "stdout",
     "output_type": "stream",
     "text": [
      "OK\n"
     ]
    }
   ],
   "source": [
    "# Bollywood Tamasha\n",
    "\n",
    "# If age of hero is > 50 then he is a char artist\n",
    "# else acceptable hero\n",
    "# if age of a heroine > 30 then she is a char artist\n",
    "#  else an acceptable heroine \n",
    "# if age_hero > age_heroine by 20 years, movie is a bumper hit\n",
    "\n",
    " #\"OK\"\n",
    " #\"Bumper hit\"\n",
    " #\"No to hero\"\n",
    "# \"No to heroine\"\n",
    "\n",
    "hero_age = int(input())\n",
    "herione_age = int(input())\n",
    "\n",
    "if hero_age<50:\n",
    "    if herione_age<30:\n",
    "        if hero_age - herione_age >20:\n",
    "            print(\"Bumper Hit\")\n",
    "        else:\n",
    "            print(\"OK\")\n",
    "    else:\n",
    "        print(\"no to herione\")\n",
    "else:\n",
    "    print(\"No to hero\")\n",
    "\n",
    "            \n",
    "        \n",
    "\n",
    "    "
   ]
  },
  {
   "cell_type": "code",
   "execution_count": null,
   "metadata": {},
   "outputs": [],
   "source": [
    "The parents dilemma\n",
    "Problem :\n",
    "The Indian couples use the following algorithm when they want to book the movie tickets. If they have childern they never book a 2nd show. But when they do not, they only book a 2nd show. They always book a ticket for a kid if the kid is > 3 years old.\n",
    "\n",
    "You are given just the below two numbers :\n",
    "\n",
    "first_kid_age\n",
    "second_kid_age\n",
    "[ If any of the above values is zero, it means that the baby is not yet born]\n",
    "\n",
    "Please write a program to help a husband and wife to follow the above algorithm to help them\n",
    "(a) choose the show and\n",
    "(b) number of tickets that needs to be booked\n",
    "\n",
    "Assume that as Indians, they will never have more than two kids."
   ]
  },
  {
   "cell_type": "code",
   "execution_count": 17,
   "metadata": {},
   "outputs": [
    {
     "name": "stdin",
     "output_type": "stream",
     "text": [
      " 4\n",
      " 0\n"
     ]
    },
    {
     "name": "stdout",
     "output_type": "stream",
     "text": [
      "Dont Book 2nd show\n",
      "You have to book  3  tickets\n"
     ]
    }
   ],
   "source": [
    "first_kid_age = int(input())\n",
    "second_kid_age = int(input())\n",
    "number_of_tickets = 2\n",
    "\n",
    "\n",
    "if first_kid_age == 0 and second_kid_age == 0:\n",
    "    print(\"Print 2nd show\")\n",
    "else:\n",
    "    print(\"Dont Book 2nd show\")\n",
    "\n",
    "if first_kid_age>3 and  second_kid_age == 0:\n",
    "    number_of_tickets +=1\n",
    "if first_kid_age ==0 and second_kid_age>3:\n",
    "    number_of_tickets+=1\n",
    "print (\"You have to book \", number_of_tickets , \" tickets\")"
   ]
  },
  {
   "cell_type": "markdown",
   "metadata": {},
   "source": [
    "# For Loop"
   ]
  },
  {
   "cell_type": "code",
   "execution_count": 22,
   "metadata": {},
   "outputs": [
    {
     "name": "stdout",
     "output_type": "stream",
     "text": [
      "hi\n",
      "hi\n",
      "hi\n"
     ]
    }
   ],
   "source": [
    "for my_number in range(1,5+1):\n",
    "    if(my_number==1 or my_number==2 or my_number==3):\n",
    "        print(\"hi\")"
   ]
  },
  {
   "cell_type": "code",
   "execution_count": 24,
   "metadata": {},
   "outputs": [
    {
     "name": "stdout",
     "output_type": "stream",
     "text": [
      "55\n"
     ]
    }
   ],
   "source": [
    "sum_of_numbers = 0\n",
    "for i in range(1,10+1):\n",
    "    sum_of_numbers +=i\n",
    "print(sum_of_numbers)"
   ]
  },
  {
   "cell_type": "code",
   "execution_count": 31,
   "metadata": {},
   "outputs": [
    {
     "name": "stdin",
     "output_type": "stream",
     "text": [
      " 5\n"
     ]
    },
    {
     "name": "stdout",
     "output_type": "stream",
     "text": [
      "its an odd number\n"
     ]
    }
   ],
   "source": [
    "# Print the odd number\n",
    "\n",
    "n = int(input())\n",
    "\n",
    "if n%2==1:\n",
    "    print(\"its an odd number\")\n",
    "else:\n",
    "    print(\"its an even number\")"
   ]
  },
  {
   "cell_type": "code",
   "execution_count": 43,
   "metadata": {},
   "outputs": [
    {
     "name": "stdout",
     "output_type": "stream",
     "text": [
      "25\n"
     ]
    }
   ],
   "source": [
    "sum_of_numbers = 0\n",
    "\n",
    "for i in range(1,11):\n",
    "    if (i % 2 == 1):\n",
    "        sum_of_numbers += i\n",
    "print(sum_of_numbers)\n"
   ]
  },
  {
   "cell_type": "code",
   "execution_count": null,
   "metadata": {},
   "outputs": [],
   "source": []
  },
  {
   "cell_type": "code",
   "execution_count": null,
   "metadata": {},
   "outputs": [],
   "source": []
  }
 ],
 "metadata": {
  "kernelspec": {
   "display_name": "Python 3",
   "language": "python",
   "name": "python3"
  },
  "language_info": {
   "codemirror_mode": {
    "name": "ipython",
    "version": 3
   },
   "file_extension": ".py",
   "mimetype": "text/x-python",
   "name": "python",
   "nbconvert_exporter": "python",
   "pygments_lexer": "ipython3",
   "version": "3.7.3"
  }
 },
 "nbformat": 4,
 "nbformat_minor": 4
}
