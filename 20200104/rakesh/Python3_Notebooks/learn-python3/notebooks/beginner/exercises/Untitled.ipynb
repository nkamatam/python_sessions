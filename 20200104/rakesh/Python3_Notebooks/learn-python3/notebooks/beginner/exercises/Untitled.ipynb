{
 "cells": [
  {
   "cell_type": "markdown",
   "metadata": {},
   "source": [
    "Create a blank List (and call it list_one)\n",
    "Add 10 random elements to the list say 1, \"two\", 3, \"four\"\n",
    "Create another list (list_two)\n",
    "Add the following elements to the list 2, \"three\", 4 , \"five\"\n",
    "Concatenate both the lists (list_one and list_two) call it list_three\n",
    "if there is an element called \"one\", then print \"one exists\" else print \"one\" does not exist\n",
    "Delete all the non-number elements from list_three"
   ]
  },
  {
   "cell_type": "code",
   "execution_count": 2,
   "metadata": {},
   "outputs": [
    {
     "name": "stdout",
     "output_type": "stream",
     "text": [
      "one is not present\n"
     ]
    }
   ],
   "source": [
    "list_one = [1,\"two\",3,\"four\"]\n",
    "list_two = [2,\"three\",4,\"five\"]\n",
    "list_three = list_one + list_two\n",
    "if \"one\" in list_three:\n",
    "    print(\"one is present\")\n",
    "else:\n",
    "    print(\"one is not present\")\n"
   ]
  },
  {
   "cell_type": "code",
   "execution_count": 3,
   "metadata": {},
   "outputs": [
    {
     "name": "stdout",
     "output_type": "stream",
     "text": [
      "[1, 'two', 3, 'four', 2, 'three', 4, 'five']\n"
     ]
    }
   ],
   "source": [
    "list_three = list_one + list_two\n",
    "print(list_three)\n"
   ]
  },
  {
   "cell_type": "code",
   "execution_count": 5,
   "metadata": {},
   "outputs": [
    {
     "name": "stdout",
     "output_type": "stream",
     "text": [
      "[1, 3, 2, 4]\n"
     ]
    }
   ],
   "source": [
    "for i in list_three:\n",
    "    if(type(i)==str):\n",
    "        list_three.remove(i)\n",
    "print(list_three)\n"
   ]
  },
  {
   "cell_type": "markdown",
   "metadata": {},
   "source": [
    "# write a program to take a persons name and print a greeting message to him/her. If the name ends with a \"a\" then print Ms or else print\"Mr\" as prefix\n"
   ]
  },
  {
   "cell_type": "code",
   "execution_count": 2,
   "metadata": {},
   "outputs": [
    {
     "name": "stdin",
     "output_type": "stream",
     "text": [
      " henil\n"
     ]
    },
    {
     "name": "stdout",
     "output_type": "stream",
     "text": [
      "henil good morning\n",
      "Mr henil\n"
     ]
    }
   ],
   "source": [
    "persons_name = input()\n",
    "print(persons_name, \"good morning\" )\n",
    "if persons_name.endswith('a'):\n",
    "    print(\"Ms\" , persons_name)\n",
    "else:\n",
    "    print(\"Mr\", persons_name)\n",
    "\n"
   ]
  },
  {
   "cell_type": "code",
   "execution_count": null,
   "metadata": {},
   "outputs": [],
   "source": []
  },
  {
   "cell_type": "code",
   "execution_count": null,
   "metadata": {},
   "outputs": [],
   "source": []
  }
 ],
 "metadata": {
  "kernelspec": {
   "display_name": "Python 3",
   "language": "python",
   "name": "python3"
  },
  "language_info": {
   "codemirror_mode": {
    "name": "ipython",
    "version": 3
   },
   "file_extension": ".py",
   "mimetype": "text/x-python",
   "name": "python",
   "nbconvert_exporter": "python",
   "pygments_lexer": "ipython3",
   "version": "3.7.3"
  }
 },
 "nbformat": 4,
 "nbformat_minor": 4
}
