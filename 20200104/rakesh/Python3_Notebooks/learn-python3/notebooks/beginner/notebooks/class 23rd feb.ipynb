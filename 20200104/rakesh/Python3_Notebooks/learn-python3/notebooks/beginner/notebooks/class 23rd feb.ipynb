{
 "cells": [
  {
   "cell_type": "code",
   "execution_count": 4,
   "metadata": {},
   "outputs": [
    {
     "name": "stdout",
     "output_type": "stream",
     "text": [
      "{'roll1#1': 'alia', 'roll#2': 'kajal', 'roll#3': 'rashmika'}\n"
     ]
    }
   ],
   "source": [
    "dict_1 = {}\n",
    "dict_1[\"roll1#1\"]=\"alia\"\n",
    "dict_1[\"roll#2\"]=\"kajal\"\n",
    "dict_1[\"roll#3\"]=\"rashmika\"\n",
    "\n",
    "print(dict_1)\n"
   ]
  },
  {
   "cell_type": "code",
   "execution_count": 6,
   "metadata": {},
   "outputs": [
    {
     "name": "stdout",
     "output_type": "stream",
     "text": [
      "{'roll#1': 'alia', 'roll#2': 'kajal', 'roll#3': 'rashmika'}\n"
     ]
    }
   ],
   "source": [
    "dict_1 = {\"roll#1\":\"alia\",\"roll#2\":\"kajal\", \"roll#3\":\"rashmika\"}\n",
    "print(dict_1)"
   ]
  },
  {
   "cell_type": "code",
   "execution_count": 8,
   "metadata": {},
   "outputs": [
    {
     "name": "stdout",
     "output_type": "stream",
     "text": [
      "{'roll1': 'alia', 'roll2': 'kajal', 'roll3': 'rashmika'}\n"
     ]
    }
   ],
   "source": [
    "dict_1 = dict(roll1 = \"alia\", roll2 = \"kajal\",roll3 = \"rashmika\")\n",
    "\n",
    "print(dict_1)"
   ]
  },
  {
   "cell_type": "code",
   "execution_count": 16,
   "metadata": {},
   "outputs": [
    {
     "name": "stdout",
     "output_type": "stream",
     "text": [
      "{1: 3, 2: 6, 3: 9, 4: 12, 5: 15, 6: 18, 7: 21, 8: 24, 9: 27, 10: 30}\n"
     ]
    }
   ],
   "source": [
    "dict = {}\n",
    "for i in range(1,11):\n",
    "    dict[i] = 3*i\n",
    "print(dict)"
   ]
  },
  {
   "cell_type": "code",
   "execution_count": null,
   "metadata": {},
   "outputs": [],
   "source": []
  }
 ],
 "metadata": {
  "kernelspec": {
   "display_name": "Python 3",
   "language": "python",
   "name": "python3"
  },
  "language_info": {
   "codemirror_mode": {
    "name": "ipython",
    "version": 3
   },
   "file_extension": ".py",
   "mimetype": "text/x-python",
   "name": "python",
   "nbconvert_exporter": "python",
   "pygments_lexer": "ipython3",
   "version": "3.7.6"
  }
 },
 "nbformat": 4,
 "nbformat_minor": 4
}
