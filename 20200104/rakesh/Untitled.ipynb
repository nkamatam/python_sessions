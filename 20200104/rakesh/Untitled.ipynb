{
 "cells": [
  {
   "cell_type": "code",
   "execution_count": 1,
   "metadata": {},
   "outputs": [
    {
     "name": "stdout",
     "output_type": "stream",
     "text": [
      "hello world\n"
     ]
    }
   ],
   "source": [
    "print (\"hello world\")"
   ]
  },
  {
   "cell_type": "code",
   "execution_count": 3,
   "metadata": {},
   "outputs": [
    {
     "name": "stdout",
     "output_type": "stream",
     "text": [
      "3\n"
     ]
    }
   ],
   "source": [
    "a = 1\n",
    "b = 2\n",
    "c = 3\n",
    "\n",
    "if (a>b):\n",
    "    if(b>c):\n",
    "        print(a)\n",
    "    else:\n",
    "        print(b)\n",
    "else:\n",
    "    if(b>c):\n",
    "        print(b)\n",
    "    else:\n",
    "        print(c)\n",
    "  "
   ]
  },
  {
   "cell_type": "code",
   "execution_count": 18,
   "metadata": {},
   "outputs": [
    {
     "name": "stdout",
     "output_type": "stream",
     "text": [
      "legal\n"
     ]
    }
   ],
   "source": [
    "# for marriage \n",
    "# male has to be 21 or more\n",
    "# Female 18 or more\n",
    "\n",
    "m_age = 21\n",
    "f_age = 18\n",
    "\n",
    "if (m_age>=21):\n",
    "    if(f_age>=18):\n",
    "        print(\"legal\")\n",
    "    else:\n",
    "        print(\"illegal\")\n",
    "else:\n",
    "    print(\"illegal\")\n",
    "            "
   ]
  },
  {
   "cell_type": "code",
   "execution_count": 16,
   "metadata": {},
   "outputs": [
    {
     "name": "stdout",
     "output_type": "stream",
     "text": [
      "bumper hit\n"
     ]
    }
   ],
   "source": [
    "#Bollywood Tamasha\n",
    "\n",
    "# if age of hero is> 50 then he is char artist\n",
    "# else acceptable hero\n",
    "# if age of a heroine > 30 then she is a char artist\n",
    "# else acceptable heroine\n",
    "# if age of hero >age of herione by 20 years, movie is a bumper hit\n",
    "\n",
    "age_hero = 40\n",
    "age_herione = 19\n",
    "\n",
    "\n",
    "if (age_hero <50):\n",
    "    if (age_herione<30):\n",
    "        if (age_hero - age_herione > 20):\n",
    "            print(\"bumper hit\")     \n",
    "        else:\n",
    "            print(\"OK\")\n",
    "    else:\n",
    "         print(\"no to herione\")\n",
    "else:\n",
    "    print(\"No to hero\")\n",
    "    if (age_herione > 30):\n",
    "        print(\"no to herione\")\n",
    "    \n",
    "\n",
    "\n",
    "        \n",
    "    \n"
   ]
  },
  {
   "cell_type": "markdown",
   "metadata": {},
   "source": [
    "# add all the number from 1 to 10"
   ]
  },
  {
   "cell_type": "code",
   "execution_count": 17,
   "metadata": {},
   "outputs": [
    {
     "name": "stdout",
     "output_type": "stream",
     "text": [
      "55\n"
     ]
    }
   ],
   "source": [
    "sum_of_numbers = 0\n",
    "for my_number in range(1,10+1):\n",
    "    sum_of_numbers = sum_of_numbers + my_number\n",
    "print(sum_of_numbers)"
   ]
  },
  {
   "cell_type": "code",
   "execution_count": 19,
   "metadata": {},
   "outputs": [
    {
     "name": "stdout",
     "output_type": "stream",
     "text": [
      "55\n"
     ]
    }
   ],
   "source": [
    "sum_of_numbers = 0\n",
    "for i in range (1,11):\n",
    "    sum_of_numbers += i\n",
    "print(sum_of_numbers)\n",
    "    "
   ]
  },
  {
   "cell_type": "code",
   "execution_count": null,
   "metadata": {},
   "outputs": [],
   "source": [
    "# Pirnt the sum of all od numbers <1"
   ]
  },
  {
   "cell_type": "code",
   "execution_count": 14,
   "metadata": {},
   "outputs": [
    {
     "name": "stdout",
     "output_type": "stream",
     "text": [
      "25\n"
     ]
    }
   ],
   "source": [
    "sum_of_odd_numbers = 0\n",
    "for i in range(1,11):\n",
    "    if (i%2 == 1):\n",
    "        sum_of_odd_numbers += i\n",
    "print(sum_of_odd_numbers)\n"
   ]
  },
  {
   "cell_type": "code",
   "execution_count": 15,
   "metadata": {},
   "outputs": [
    {
     "name": "stdout",
     "output_type": "stream",
     "text": [
      "30\n"
     ]
    }
   ],
   "source": [
    "sum_of_odd_numbers = 0\n",
    "for i in range(1,11):\n",
    "    if (i%2 == 0):\n",
    "        sum_of_odd_numbers += i\n",
    "print(sum_of_odd_numbers)\n"
   ]
  },
  {
   "cell_type": "code",
   "execution_count": null,
   "metadata": {},
   "outputs": [],
   "source": []
  },
  {
   "cell_type": "code",
   "execution_count": null,
   "metadata": {},
   "outputs": [],
   "source": []
  }
 ],
 "metadata": {
  "kernelspec": {
   "display_name": "Python 3",
   "language": "python",
   "name": "python3"
  },
  "language_info": {
   "codemirror_mode": {
    "name": "ipython",
    "version": 3
   },
   "file_extension": ".py",
   "mimetype": "text/x-python",
   "name": "python",
   "nbconvert_exporter": "python",
   "pygments_lexer": "ipython3",
   "version": "3.7.3"
  }
 },
 "nbformat": 4,
 "nbformat_minor": 4
}
