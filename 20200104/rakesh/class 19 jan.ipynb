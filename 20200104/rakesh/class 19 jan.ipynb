{
 "cells": [
  {
   "cell_type": "code",
   "execution_count": 11,
   "metadata": {},
   "outputs": [
    {
     "name": "stdout",
     "output_type": "stream",
     "text": [
      "45\n"
     ]
    }
   ],
   "source": [
    "#sum of all integers less than 10\n",
    "\n",
    "sum_of_numbers = 0\n",
    "\n",
    "for i in range(1,10):\n",
    "    sum_of_numbers +=i\n",
    "print(sum_of_numbers)\n",
    "    "
   ]
  },
  {
   "cell_type": "code",
   "execution_count": 3,
   "metadata": {},
   "outputs": [
    {
     "name": "stdout",
     "output_type": "stream",
     "text": [
      "3628800\n"
     ]
    }
   ],
   "source": [
    "# factorial of 10\n",
    "\n",
    "factorial_num = 1\n",
    "\n",
    "for i in range(1,11):\n",
    "    factorial_num = factorial_num*i\n",
    "print(factorial_num)"
   ]
  },
  {
   "cell_type": "markdown",
   "metadata": {},
   "source": [
    "# Print \n",
    "\n",
    "*\n",
    "* *\n",
    "* * *\n",
    "* * * *\n",
    "* * * * *\n",
    "\n",
    "\n"
   ]
  },
  {
   "cell_type": "code",
   "execution_count": 48,
   "metadata": {},
   "outputs": [
    {
     "name": "stdout",
     "output_type": "stream",
     "text": [
      "*\n",
      "**\n",
      "***\n",
      "****\n",
      "*****\n",
      "******\n",
      "*******\n",
      "********\n",
      "*********\n"
     ]
    }
   ],
   "source": [
    "for i in range(1,10):\n",
    "    print(\"*\"*i)\n",
    "\n",
    "\n",
    "    "
   ]
  },
  {
   "cell_type": "code",
   "execution_count": 9,
   "metadata": {},
   "outputs": [
    {
     "name": "stdout",
     "output_type": "stream",
     "text": [
      "rakeshrakeshrakeshrakeshrakeshrakeshrakeshrakeshrakeshrakeshrakeshrakeshrakeshrakeshrakeshrakeshrakeshrakeshrakeshrakeshrakeshrakeshrakeshrakeshrakeshrakeshrakeshrakeshrakeshrakeshrakeshrakeshrakeshrakeshrakeshrakeshrakeshrakeshrakeshrakeshrakeshrakeshrakeshrakeshrakeshrakeshrakeshrakeshrakeshrakeshrakeshrakeshrakeshrakeshrakeshrakeshrakeshrakeshrakeshrakeshrakeshrakeshrakeshrakeshrakeshrakeshrakeshrakeshrakeshrakeshrakeshrakeshrakeshrakeshrakeshrakeshrakeshrakeshrakeshrakeshrakeshrakeshrakeshrakeshrakeshrakeshrakeshrakeshrakeshrakeshrakeshrakeshrakeshrakeshrakeshrakeshrakeshrakeshrakeshrakesh\n"
     ]
    }
   ],
   "source": [
    "# print my name 100 times\n",
    "\n",
    "name = \"rakesh\"\n",
    "\n",
    "print(name*100)\n"
   ]
  },
  {
   "cell_type": "code",
   "execution_count": 17,
   "metadata": {},
   "outputs": [
    {
     "name": "stdout",
     "output_type": "stream",
     "text": [
      "****************************************************************************************************\n"
     ]
    }
   ],
   "source": [
    "# print * 100 times\n",
    "\n",
    "name = \"*\"\n",
    "\n",
    "print(name *100)"
   ]
  },
  {
   "cell_type": "code",
   "execution_count": 42,
   "metadata": {},
   "outputs": [
    {
     "name": "stdout",
     "output_type": "stream",
     "text": [
      "0\n",
      "1\n",
      "2\n"
     ]
    }
   ],
   "source": [
    "\n",
    "for i in range (3):\n",
    "    print(i)\n"
   ]
  },
  {
   "cell_type": "code",
   "execution_count": 55,
   "metadata": {},
   "outputs": [
    {
     "name": "stdout",
     "output_type": "stream",
     "text": [
      "*\n",
      "***\n",
      "*****\n",
      "*******\n",
      "*********\n"
     ]
    }
   ],
   "source": [
    "for i in range(1,10,2):\n",
    "    print(\"*\"*i)\n"
   ]
  },
  {
   "cell_type": "code",
   "execution_count": 56,
   "metadata": {},
   "outputs": [
    {
     "name": "stdout",
     "output_type": "stream",
     "text": [
      "****\n",
      "***\n",
      "**\n",
      "*\n",
      "\n"
     ]
    }
   ],
   "source": [
    "for i in range (1,10,2):\n",
    "    print(\"\"*int(10/2-i)+1),nend = \"\""
   ]
  },
  {
   "cell_type": "code",
   "execution_count": null,
   "metadata": {},
   "outputs": [],
   "source": []
  }
 ],
 "metadata": {
  "kernelspec": {
   "display_name": "Python 3",
   "language": "python",
   "name": "python3"
  },
  "language_info": {
   "codemirror_mode": {
    "name": "ipython",
    "version": 3
   },
   "file_extension": ".py",
   "mimetype": "text/x-python",
   "name": "python",
   "nbconvert_exporter": "python",
   "pygments_lexer": "ipython3",
   "version": "3.7.6"
  }
 },
 "nbformat": 4,
 "nbformat_minor": 4
}
