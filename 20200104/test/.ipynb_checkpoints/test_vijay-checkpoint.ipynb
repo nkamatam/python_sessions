{
 "cells": [
  {
   "cell_type": "markdown",
   "metadata": {},
   "source": [
    "### Instructions:\n",
    "\n",
    "* Exam duration is 1 hour.<br>\n",
    "* You will have to write programs for all the below scenarios. <br>\n",
    "* Do not search the internet for the answers, you might just be wasting your time.<br>\n",
    "* Accuracy of the logic/answer is a significant component of the evaluation. <br>\n",
    "* Efficiency of logic, simplicity  etc will be other parameters. <br>\n",
    "* This is a programming exam and not a Python exam. Please refrain from using any Python modules/data structures unless suggested in the question.<br>\n",
    "* Check-in your answers to Github when you are done\n",
    "\n",
    "\n",
    "\n"
   ]
  },
  {
   "cell_type": "markdown",
   "metadata": {},
   "source": [
    "##  ```if``` you were the king/queen\n",
    "\n",
    "A ruler with a limited developmental budget asked all the 3 of his ministers, each to come up with the number of cities (from a total of 10 cities in his state) he needs to develop in the year 2020 as part of **NBHY (Nagar Bane Hoshiyar Yojana)** plan. The ruler decided to take the mode of the numbers furnished by them as the 2020 goal. \n",
    "\n",
    "Write a program to accept those numbers from the ministers and print the mode of those numbers. \n",
    "\n",
    "Hint: ```if, and, elif```"
   ]
  },
  {
   "cell_type": "code",
   "execution_count": null,
   "metadata": {
    "scrolled": true
   },
   "outputs": [],
   "source": []
  },
  {
   "cell_type": "markdown",
   "metadata": {},
   "source": [
    "## [ _Enter_ queen/king ]\n",
    "\n",
    "Ruler's spouse, a mathemtician by nature, quickly found the flaw: mode is indeterminate when the proposals from the ministers are all distinct. So, a correction was made : When there is no appropriate mode, median will be taken as the goal for **_NBHY_** 2020.\n",
    "\n",
    "Modify the code above to _include_ the correction made to the rule."
   ]
  },
  {
   "cell_type": "code",
   "execution_count": null,
   "metadata": {},
   "outputs": [],
   "source": []
  },
  {
   "cell_type": "markdown",
   "metadata": {},
   "source": [
    "## Factorial\n",
    "\n",
    "Not surprisingly, factorial of any number more than 4 has atleast one zero at the end. Write a program to find the number of Zeros in factorial of _any_ given number.\n",
    "\n",
    "The factorial can be obtained by the following code:\n",
    "\n",
    "```\n",
    "import math\n",
    "print(math.factorial(5))```\n",
    "\n",
    "Hint : ```% and //```"
   ]
  },
  {
   "cell_type": "code",
   "execution_count": null,
   "metadata": {},
   "outputs": [],
   "source": []
  },
  {
   "cell_type": "markdown",
   "metadata": {},
   "source": [
    "## Roll of Dice\n",
    "\n",
    "An amature software professional shouts : _\"The probability of getting a total of 12 when two dice are rolled is $\\frac{1}{36}$\"_\n",
    "\n",
    "Prove/Disprove it by writing code to generate all possible combinations and those that add up to 12 (or any other number you want to calculate the probability for).\n",
    "\n",
    "Hint : floating point numbers can never be compared _accurately_"
   ]
  },
  {
   "cell_type": "code",
   "execution_count": null,
   "metadata": {},
   "outputs": [],
   "source": []
  },
  {
   "cell_type": "markdown",
   "metadata": {},
   "source": [
    "## Statistical Evidence\n",
    "\n",
    "Prove or disprove the above statement from the amature software professional by statistically making 1,00,000 random trials (roll of dice). A random roll of dice could be achived in Python by using the below code\n",
    "\n",
    "```\n",
    "import random\n",
    "dice1 = random.choice([1,2,3,4,5,6])\n",
    "print (dice1)```\n",
    "\n",
    "Hint: Statistical results are closer to reality as the number of trials tends to infinity"
   ]
  },
  {
   "cell_type": "code",
   "execution_count": null,
   "metadata": {},
   "outputs": [],
   "source": []
  }
 ],
 "metadata": {
  "kernelspec": {
   "display_name": "Python 3",
   "language": "python",
   "name": "python3"
  },
  "language_info": {
   "codemirror_mode": {
    "name": "ipython",
    "version": 3
   },
   "file_extension": ".py",
   "mimetype": "text/x-python",
   "name": "python",
   "nbconvert_exporter": "python",
   "pygments_lexer": "ipython3",
   "version": "3.7.3"
  }
 },
 "nbformat": 4,
 "nbformat_minor": 4
}
