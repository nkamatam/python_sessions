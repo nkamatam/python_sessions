{
 "cells": [
  {
   "cell_type": "code",
   "execution_count": 7,
   "metadata": {},
   "outputs": [],
   "source": [
    "# Create a blank List (and call it list_one)\n",
    "\n",
    "list_one = []"
   ]
  },
  {
   "cell_type": "code",
   "execution_count": 8,
   "metadata": {},
   "outputs": [
    {
     "ename": "NameError",
     "evalue": "name 'list_two' is not defined",
     "output_type": "error",
     "traceback": [
      "\u001b[0;31m---------------------------------------------------------------------------\u001b[0m",
      "\u001b[0;31mNameError\u001b[0m                                 Traceback (most recent call last)",
      "\u001b[0;32m<ipython-input-8-d131fa4b1c0e>\u001b[0m in \u001b[0;36m<module>\u001b[0;34m\u001b[0m\n\u001b[1;32m      3\u001b[0m \u001b[0mlist_one\u001b[0m \u001b[0;34m=\u001b[0m \u001b[0;34m[\u001b[0m\u001b[0;34m]\u001b[0m\u001b[0;34m\u001b[0m\u001b[0;34m\u001b[0m\u001b[0m\n\u001b[1;32m      4\u001b[0m \u001b[0mlist_one\u001b[0m \u001b[0;34m=\u001b[0m \u001b[0;34m[\u001b[0m\u001b[0;36m1\u001b[0m\u001b[0;34m,\u001b[0m\u001b[0;36m2\u001b[0m\u001b[0;34m,\u001b[0m\u001b[0;34m'two'\u001b[0m\u001b[0;34m,\u001b[0m\u001b[0;36m3\u001b[0m\u001b[0;34m,\u001b[0m\u001b[0;34m'four'\u001b[0m\u001b[0;34m,\u001b[0m\u001b[0;36m5\u001b[0m\u001b[0;34m,\u001b[0m \u001b[0;34m'six'\u001b[0m\u001b[0;34m,\u001b[0m\u001b[0;36m7\u001b[0m\u001b[0;34m,\u001b[0m\u001b[0;34m'eight'\u001b[0m\u001b[0;34m,\u001b[0m\u001b[0;36m9\u001b[0m\u001b[0;34m,\u001b[0m \u001b[0;34m'ten'\u001b[0m\u001b[0;34m]\u001b[0m\u001b[0;34m\u001b[0m\u001b[0;34m\u001b[0m\u001b[0m\n\u001b[0;32m----> 5\u001b[0;31m \u001b[0mlist_one\u001b[0m\u001b[0;34m.\u001b[0m\u001b[0mextend\u001b[0m\u001b[0;34m(\u001b[0m\u001b[0mlist_two\u001b[0m\u001b[0;34m)\u001b[0m\u001b[0;34m\u001b[0m\u001b[0;34m\u001b[0m\u001b[0m\n\u001b[0m",
      "\u001b[0;31mNameError\u001b[0m: name 'list_two' is not defined"
     ]
    }
   ],
   "source": [
    "# Add 10 random elements to the list say 1, \"two\", 3, \"four\"\n",
    "\n",
    "list_one = []\n",
    "list_one = [1,2,'two',3,'four',5, 'six',7,'eight',9, 'ten']\n",
    "list_one.extend(list_two)\n"
   ]
  },
  {
   "cell_type": "code",
   "execution_count": null,
   "metadata": {},
   "outputs": [],
   "source": [
    "# Add the following elements to the list 2, \"three\", 4 , \"five\"\n",
    "\n",
    "list_one = [1,2,'two',3,'four',5, 'six',7,'eight',9, 'ten']\n",
    "list_two = [2,'three',4,'five']\n",
    "list_one.append(list_two)\n",
    "print (list_one)\n"
   ]
  },
  {
   "cell_type": "code",
   "execution_count": 9,
   "metadata": {},
   "outputs": [
    {
     "name": "stdout",
     "output_type": "stream",
     "text": [
      "[1, 2, 'two', 3, 'four', 5, 'six', 7, 'eight', 9, 'ten', 2, 'three', 4, 'five']\n"
     ]
    }
   ],
   "source": [
    "# Concatenate both the lists (list_one and list_two) call it list_three\n",
    "\n",
    "list_one = [1,2,'two',3,'four',5, 'six',7,'eight',9, 'ten']\n",
    "list_two = [2,'three',4,'five']\n",
    "\n",
    "list_three = list_one + list_two\n",
    "print (list_three)\n"
   ]
  },
  {
   "cell_type": "code",
   "execution_count": 10,
   "metadata": {},
   "outputs": [
    {
     "name": "stdout",
     "output_type": "stream",
     "text": [
      "one is doesn't exist\n"
     ]
    }
   ],
   "source": [
    "# if there is an element called \"one\", then print \"one exists\" else print \"one\" does not exist\n",
    "\n",
    "if 'one' in list_three:\n",
    "    print ('one')\n",
    "else:\n",
    "    print (\"one is doesn't exist\")\n",
    "    \n",
    "\n"
   ]
  },
  {
   "cell_type": "code",
   "execution_count": 11,
   "metadata": {},
   "outputs": [
    {
     "name": "stdout",
     "output_type": "stream",
     "text": [
      "[1, 2, 3, 'four', 5, 'six', 7, 'eight', 9, 'ten', 2, 'three', 4, 'five']\n"
     ]
    }
   ],
   "source": [
    "# Delete all the non-number elements from list_three\n",
    "\n",
    "list_three.remove ('two')\n",
    "print (list_three)"
   ]
  },
  {
   "cell_type": "code",
   "execution_count": 12,
   "metadata": {},
   "outputs": [
    {
     "name": "stdout",
     "output_type": "stream",
     "text": [
      "[1, 2, 3, 5, 7, 9, 2, 4]\n"
     ]
    }
   ],
   "source": [
    "for elements in list_three:\n",
    "    if (type(elements) ==str):\n",
    "        list_three.remove(elements)\n",
    "print (list_three)"
   ]
  },
  {
   "cell_type": "code",
   "execution_count": 42,
   "metadata": {},
   "outputs": [
    {
     "name": "stdin",
     "output_type": "stream",
     "text": [
      " Sita\n"
     ]
    },
    {
     "name": "stdout",
     "output_type": "stream",
     "text": [
      "Ms Sita Good Morning\n"
     ]
    }
   ],
   "source": [
    "# Write a prog to take person name and greetings message to him/her. if the name ends with a \"a\" then print Ms or Else \"Mr\"\n",
    "\n",
    "name = input()\n",
    "\n",
    "if name.endswith ('a'):\n",
    "   print(\"Ms\",name, \"Good Morning\")\n",
    "else:\n",
    "    print (\"Mr\",name, \"Good Morning\")\n",
    "\n",
    "\n"
   ]
  },
  {
   "cell_type": "code",
   "execution_count": null,
   "metadata": {},
   "outputs": [],
   "source": []
  }
 ],
 "metadata": {
  "kernelspec": {
   "display_name": "Python 3",
   "language": "python",
   "name": "python3"
  },
  "language_info": {
   "codemirror_mode": {
    "name": "ipython",
    "version": 3
   },
   "file_extension": ".py",
   "mimetype": "text/x-python",
   "name": "python",
   "nbconvert_exporter": "python",
   "pygments_lexer": "ipython3",
   "version": "3.7.6"
  }
 },
 "nbformat": 4,
 "nbformat_minor": 4
}
