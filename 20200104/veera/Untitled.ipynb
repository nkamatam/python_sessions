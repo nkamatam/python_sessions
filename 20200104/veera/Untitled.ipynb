{
 "cells": [
  {
   "cell_type": "code",
   "execution_count": 2,
   "metadata": {},
   "outputs": [
    {
     "name": "stdout",
     "output_type": "stream",
     "text": [
      "hello world\n"
     ]
    }
   ],
   "source": [
    "print (\"hello world\")\n"
   ]
  },
  {
   "cell_type": "code",
   "execution_count": 4,
   "metadata": {},
   "outputs": [
    {
     "name": "stdout",
     "output_type": "stream",
     "text": [
      "350\n"
     ]
    }
   ],
   "source": [
    "# Greatest of 3 numbers\n",
    "\n",
    "a=100\n",
    "b=200\n",
    "c=350\n",
    "\n",
    "if (a>b):\n",
    "    if (a>c):\n",
    "        print(a)\n",
    "    else:\n",
    "        print(c)\n",
    "else:\n",
    "    if (b>c):\n",
    "        print (b)\n",
    "        \n",
    "    else:\n",
    "        print (c)\n",
    "        \n",
    "    "
   ]
  },
  {
   "cell_type": "code",
   "execution_count": 34,
   "metadata": {},
   "outputs": [
    {
     "name": "stdout",
     "output_type": "stream",
     "text": [
      "illegal\n"
     ]
    }
   ],
   "source": [
    "# For Marriage male has to be 21 years old and Female has to be 18 or more\n",
    "\n",
    "male_age=32\n",
    "female_age=10\n",
    "\n",
    "if  (male_age>21):\n",
    "    if(female_age>18):\n",
    "        print (\"legal\")\n",
    "    else:\n",
    "            print(\"illegal\")\n",
    "else:\n",
    "    print(\"illegal\")\n",
    "        \n",
    "    \n",
    "\n",
    "    \n",
    "    "
   ]
  },
  {
   "cell_type": "code",
   "execution_count": 16,
   "metadata": {},
   "outputs": [
    {
     "name": "stdout",
     "output_type": "stream",
     "text": [
      "bumper hit\n"
     ]
    }
   ],
   "source": [
    "# Bollywood tamasha\n",
    "# Age of here is > 50 then he is a char artist\n",
    "# else an accetable hero\n",
    "# if afe of heroine > 30 then she is a char artist\n",
    "# else an accetable heroine\n",
    "# if age of hero > age heroine by 20 years, movie is hit\n",
    "\n",
    "ageofhero = 49\n",
    "ageofheroine = 20\n",
    "\n",
    "if (ageofhero < 50):\n",
    "    if(ageofheroine<30):\n",
    "        if(ageofhero - ageofheroine > 20):\n",
    "            print(\"bumper hit\")\n",
    "        else:\n",
    "            print(\"ok\")\n",
    "        \n",
    "    else:\n",
    "        print(\"no to heroine\")\n",
    "else:\n",
    "    print(\"no to hero\")\n",
    "    if (ageofheroine>30):\n",
    "        print(\"no to heroine\")\n",
    "    \n",
    "    \n",
    "    \n",
    "    \n",
    "\n",
    "\n",
    "\n"
   ]
  },
  {
   "cell_type": "code",
   "execution_count": 5,
   "metadata": {},
   "outputs": [
    {
     "name": "stdout",
     "output_type": "stream",
     "text": [
      "Book 4 Movie Tikcet\n",
      "children_2 should not book ticket\n"
     ]
    }
   ],
   "source": [
    "children_1 = 5\n",
    "children_2 = 6\n",
    "\n",
    "if (children_1>3):\n",
    "      print(\"Book 4 Movie Tikcet\")\n",
    "      if (children_2>3):\n",
    "          print (\"children_2 should not book ticket\")\n",
    "          if (children_1<0):\n",
    "              print(\"family can book 2nd show\")\n",
    "              if (children_2<0):\n",
    "                  print(\"familiy book 2nd show\")\n",
    "            \n",
    "else:\n",
    "     print(\"book 2nd show\")\n",
    "\n",
    "\n",
    "\n"
   ]
  },
  {
   "cell_type": "code",
   "execution_count": 26,
   "metadata": {},
   "outputs": [
    {
     "name": "stdout",
     "output_type": "stream",
     "text": [
      "3\n"
     ]
    }
   ],
   "source": [
    "# Add all the numbers to 1 to 10\n",
    "sum_of_numbers=0\n",
    "for my_number in range(1,3):\n",
    "    sum_of_numbers=sum_of_numbers+my_number\n",
    "print(sum_of_numbers)\n",
    "    \n"
   ]
  },
  {
   "cell_type": "code",
   "execution_count": 13,
   "metadata": {},
   "outputs": [
    {
     "name": "stdout",
     "output_type": "stream",
     "text": [
      "25\n"
     ]
    }
   ],
   "source": [
    "# Add between All the odd numbers:\n",
    "sum_of_number=0\n",
    "for my_number in range(1,11):\n",
    "    if (my_number %2 == 1):\n",
    "        sum_of_number=sum_of_number+my_number\n",
    "print(sum_of_number)\n"
   ]
  },
  {
   "cell_type": "code",
   "execution_count": 14,
   "metadata": {},
   "outputs": [
    {
     "name": "stdout",
     "output_type": "stream",
     "text": [
      "30\n"
     ]
    }
   ],
   "source": [
    "# Add Even numbers\n",
    "sum_of_number=0\n",
    "for my_number in range(1,11):\n",
    "    if (my_number %2 == 0):\n",
    "        sum_of_number=sum_of_number+my_number\n",
    "print(sum_of_number)\n"
   ]
  },
  {
   "cell_type": "code",
   "execution_count": 22,
   "metadata": {},
   "outputs": [
    {
     "name": "stdout",
     "output_type": "stream",
     "text": [
      "*\n",
      "something\n",
      "**\n",
      "something\n",
      "***\n",
      "something\n",
      "****\n",
      "something\n",
      "*****\n",
      "something\n"
     ]
    }
   ],
   "source": [
    "# Print the following Triangle\n",
    "\n",
    "for i in range(1,6):\n",
    "    for j in range(i):  \n",
    "        print (\"*\", end=\"\")\n",
    "    print(\"\")\n",
    "    print(\"something\")"
   ]
  },
  {
   "cell_type": "code",
   "execution_count": 80,
   "metadata": {},
   "outputs": [
    {
     "name": "stdout",
     "output_type": "stream",
     "text": [
      "*\n",
      "***\n",
      "*****\n",
      "*******\n"
     ]
    }
   ],
   "source": [
    "# Write a program to print\n",
    "for my_number in range (1,8):\n",
    "        if (my_number %2 ==1):\n",
    "            for j in range (my_number):\n",
    "                print(\"*\",end= \"\")\n",
    "            print(\"\")\n",
    "  \n",
    "    \n"
   ]
  },
  {
   "cell_type": "code",
   "execution_count": 126,
   "metadata": {},
   "outputs": [
    {
     "name": "stdout",
     "output_type": "stream",
     "text": [
      "*\n",
      "***\n",
      "*****\n",
      "*******\n",
      "*********\n"
     ]
    }
   ],
   "source": [
    "for i in range (1,10,2):\n",
    "    print (\"*\"*i)"
   ]
  },
  {
   "cell_type": "code",
   "execution_count": null,
   "metadata": {},
   "outputs": [],
   "source": [
    "Part 2 \n",
    "         *\n",
    "       ***\n",
    "      ****\n",
    "     *****\n",
    "    ******\n",
    "    "
   ]
  }
 ],
 "metadata": {
  "kernelspec": {
   "display_name": "Python 3",
   "language": "python",
   "name": "python3"
  },
  "language_info": {
   "codemirror_mode": {
    "name": "ipython",
    "version": 3
   },
   "file_extension": ".py",
   "mimetype": "text/x-python",
   "name": "python",
   "nbconvert_exporter": "python",
   "pygments_lexer": "ipython3",
   "version": "3.7.3"
  }
 },
 "nbformat": 4,
 "nbformat_minor": 4
}
