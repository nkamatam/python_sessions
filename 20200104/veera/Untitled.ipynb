{
 "cells": [
  {
   "cell_type": "code",
   "execution_count": 2,
   "metadata": {},
   "outputs": [
    {
     "name": "stdout",
     "output_type": "stream",
     "text": [
      "hello world\n"
     ]
    }
   ],
   "source": [
    "print (\"hello world\")\n"
   ]
  },
  {
   "cell_type": "code",
   "execution_count": 4,
   "metadata": {},
   "outputs": [
    {
     "name": "stdout",
     "output_type": "stream",
     "text": [
      "350\n"
     ]
    }
   ],
   "source": [
    "# Greatest of 3 numbers\n",
    "\n",
    "a=100\n",
    "b=200\n",
    "c=350\n",
    "\n",
    "if (a>b):\n",
    "    if (a>c):\n",
    "        print(a)\n",
    "    else:\n",
    "        print(c)\n",
    "else:\n",
    "    if (b>c):\n",
    "        print (b)\n",
    "        \n",
    "    else:\n",
    "        print (c)\n",
    "        \n",
    "    "
   ]
  },
  {
   "cell_type": "code",
   "execution_count": 34,
   "metadata": {},
   "outputs": [
    {
     "name": "stdout",
     "output_type": "stream",
     "text": [
      "illegal\n"
     ]
    }
   ],
   "source": [
    "# For Marriage male has to be 21 years old and Female has to be 18 or more\n",
    "\n",
    "male_age=32\n",
    "female_age=10\n",
    "\n",
    "if  (male_age>21):\n",
    "    if(female_age>18):\n",
    "        print (\"legal\")\n",
    "    else:\n",
    "            print(\"illegal\")\n",
    "else:\n",
    "    print(\"illegal\")\n",
    "        \n",
    "    \n",
    "\n",
    "    \n",
    "    "
   ]
  },
  {
   "cell_type": "code",
   "execution_count": 16,
   "metadata": {},
   "outputs": [
    {
     "name": "stdout",
     "output_type": "stream",
     "text": [
      "bumper hit\n"
     ]
    }
   ],
   "source": [
    "# Bollywood tamasha\n",
    "# Age of here is > 50 then he is a char artist\n",
    "# else an accetable hero\n",
    "# if afe of heroine > 30 then she is a char artist\n",
    "# else an accetable heroine\n",
    "# if age of hero > age heroine by 20 years, movie is hit\n",
    "\n",
    "ageofhero = 49\n",
    "ageofheroine = 20\n",
    "\n",
    "if (ageofhero < 50):\n",
    "    if(ageofheroine<30):\n",
    "        if(ageofhero - ageofheroine > 20):\n",
    "            print(\"bumper hit\")\n",
    "        else:\n",
    "            print(\"ok\")\n",
    "        \n",
    "    else:\n",
    "        print(\"no to heroine\")\n",
    "else:\n",
    "    print(\"no to hero\")\n",
    "    if (ageofheroine>30):\n",
    "        print(\"no to heroine\")\n",
    "    \n",
    "    \n",
    "    \n",
    "    \n",
    "\n",
    "\n",
    "\n"
   ]
  },
  {
   "cell_type": "code",
   "execution_count": null,
   "metadata": {},
   "outputs": [],
   "source": []
  }
 ],
 "metadata": {
  "kernelspec": {
   "display_name": "Python 3",
   "language": "python",
   "name": "python3"
  },
  "language_info": {
   "codemirror_mode": {
    "name": "ipython",
    "version": 3
   },
   "file_extension": ".py",
   "mimetype": "text/x-python",
   "name": "python",
   "nbconvert_exporter": "python",
   "pygments_lexer": "ipython3",
   "version": "3.7.3"
  }
 },
 "nbformat": 4,
 "nbformat_minor": 4
}
