{
 "cells": [
  {
   "cell_type": "code",
   "execution_count": 19,
   "metadata": {},
   "outputs": [
    {
     "name": "stdout",
     "output_type": "stream",
     "text": [
      "*\n",
      "Modi\n",
      "**\n",
      "Modi\n",
      "***\n",
      "Modi\n",
      "****\n",
      "Modi\n",
      "*****\n",
      "Modi\n"
     ]
    }
   ],
   "source": [
    "for i in range(1,6):\n",
    "    for j in range (i):\n",
    "        print(\"*\",end=\"\")\n",
    "    print(\"\")\n",
    "    print(\"Modi\")"
   ]
  },
  {
   "cell_type": "code",
   "execution_count": 66,
   "metadata": {},
   "outputs": [
    {
     "name": "stdout",
     "output_type": "stream",
     "text": [
      "*\n",
      "***\n",
      "*****\n",
      "*******\n"
     ]
    }
   ],
   "source": [
    "#write a prog. print\n",
    "\n",
    "for i in range(1,8):\n",
    "    if(i%2==1):\n",
    "        for j in range (i):\n",
    "            print(\"*\",end=\"\")\n",
    "        print(\"\")\n",
    "\n"
   ]
  },
  {
   "cell_type": "code",
   "execution_count": 72,
   "metadata": {},
   "outputs": [
    {
     "name": "stdout",
     "output_type": "stream",
     "text": [
      "*\n",
      "*******\n"
     ]
    }
   ],
   "source": [
    "#triangle\n",
    "for i in range(1,10,3):\n",
    "    if(i%2==1):\n",
    "        for j in range(i):\n",
    "            print(\"*\",end=\"\")\n",
    "        print(\"\")\n",
    "    "
   ]
  },
  {
   "cell_type": "code",
   "execution_count": 145,
   "metadata": {},
   "outputs": [
    {
     "name": "stdout",
     "output_type": "stream",
     "text": [
      "*\n",
      "***\n",
      "*****\n",
      "*******\n",
      "*********\n"
     ]
    }
   ],
   "source": [
    "for i in range(1,10,2):\n",
    "    print(\"*\"*i)\n",
    "        \n"
   ]
  },
  {
   "cell_type": "code",
   "execution_count": 151,
   "metadata": {},
   "outputs": [
    {
     "name": "stdout",
     "output_type": "stream",
     "text": [
      "*\n",
      "\n",
      "***\n",
      "\n",
      "*****\n",
      "\n",
      "*******\n",
      "\n",
      "*********\n",
      "\n"
     ]
    }
   ],
   "source": [
    "#print traingle\n",
    "\n",
    "for i in range(1,10,2):\n",
    "    print(\"*\"*i,*\"\")\n",
    "    print(i*\"\")\n"
   ]
  },
  {
   "cell_type": "code",
   "execution_count": null,
   "metadata": {},
   "outputs": [],
   "source": []
  }
 ],
 "metadata": {
  "kernelspec": {
   "display_name": "Python 3",
   "language": "python",
   "name": "python3"
  },
  "language_info": {
   "codemirror_mode": {
    "name": "ipython",
    "version": 3
   },
   "file_extension": ".py",
   "mimetype": "text/x-python",
   "name": "python",
   "nbconvert_exporter": "python",
   "pygments_lexer": "ipython3",
   "version": "3.7.3"
  }
 },
 "nbformat": 4,
 "nbformat_minor": 4
}
