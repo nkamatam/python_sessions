{
 "cells": [
  {
   "cell_type": "code",
   "execution_count": 3,
   "metadata": {},
   "outputs": [
    {
     "name": "stdout",
     "output_type": "stream",
     "text": [
      "45\n"
     ]
    }
   ],
   "source": [
    "#sum of all numbers less than 10\n",
    "\n",
    "sum_no=0\n",
    "for i in range(1,10):\n",
    "    sum_no=sum_no+i\n",
    "print(sum_no)\n",
    "   \n",
    "\n",
    "        \n",
    "\n",
    "\n"
   ]
  },
  {
   "cell_type": "code",
   "execution_count": 9,
   "metadata": {},
   "outputs": [
    {
     "name": "stdout",
     "output_type": "stream",
     "text": [
      "36288000\n"
     ]
    }
   ],
   "source": [
    "#factorial of 10\n",
    "\n",
    "factorial=10\n",
    "for i in range(1,10+1):\n",
    "    factorial=factorial*i\n",
    "print(factorial)\n",
    "\n"
   ]
  },
  {
   "cell_type": "code",
   "execution_count": 41,
   "metadata": {},
   "outputs": [
    {
     "ename": "IndentationError",
     "evalue": "unexpected indent (<ipython-input-41-ae49911832d6>, line 5)",
     "output_type": "error",
     "traceback": [
      "\u001b[0;36m  File \u001b[0;32m\"<ipython-input-41-ae49911832d6>\"\u001b[0;36m, line \u001b[0;32m5\u001b[0m\n\u001b[0;31m    print(i,\"*\")\u001b[0m\n\u001b[0m    ^\u001b[0m\n\u001b[0;31mIndentationError\u001b[0m\u001b[0;31m:\u001b[0m unexpected indent\n"
     ]
    }
   ],
   "source": [
    "#print ****\n",
    "\n",
    "for i in range(1,10):\n",
    "    i=i+1\n",
    "       print(i,\"*\")"
   ]
  },
  {
   "cell_type": "code",
   "execution_count": 19,
   "metadata": {},
   "outputs": [
    {
     "name": "stdin",
     "output_type": "stream",
     "text": [
      " vijay\n"
     ]
    },
    {
     "name": "stdout",
     "output_type": "stream",
     "text": [
      "vijayvijayvijayvijayvijayvijayvijayvijayvijayvijayvijayvijayvijayvijayvijayvijayvijayvijayvijayvijayvijayvijayvijayvijayvijayvijayvijayvijayvijayvijayvijayvijayvijayvijayvijayvijayvijayvijayvijayvijayvijayvijayvijayvijayvijayvijayvijayvijayvijayvijayvijayvijayvijayvijayvijayvijayvijayvijayvijayvijayvijayvijayvijayvijayvijayvijayvijayvijayvijayvijayvijayvijayvijayvijayvijayvijayvijayvijayvijayvijayvijayvijayvijayvijayvijayvijayvijayvijayvijayvijayvijayvijayvijayvijayvijayvijayvijayvijayvijayvijay\n"
     ]
    }
   ],
   "source": [
    "a=input()\n",
    "print(a*100)"
   ]
  },
  {
   "cell_type": "code",
   "execution_count": 25,
   "metadata": {},
   "outputs": [
    {
     "name": "stdin",
     "output_type": "stream",
     "text": [
      " *\n"
     ]
    },
    {
     "name": "stdout",
     "output_type": "stream",
     "text": [
      "****************************************************************************************************\n"
     ]
    }
   ],
   "source": [
    "a=input()\n",
    "print(a*100)"
   ]
  },
  {
   "cell_type": "code",
   "execution_count": 47,
   "metadata": {},
   "outputs": [
    {
     "name": "stdout",
     "output_type": "stream",
     "text": [
      "vijayvijayvijayvijayvijayvijayvijayvijayvijayvijayvijayvijayvijayvijayvijayvijayvijayvijayvijayvijayvijayvijayvijayvijayvijayvijayvijayvijayvijayvijayvijayvijayvijayvijayvijayvijayvijayvijayvijayvijayvijayvijayvijayvijayvijayvijayvijayvijayvijayvijayvijayvijayvijayvijayvijayvijayvijayvijayvijayvijayvijayvijayvijayvijayvijayvijayvijayvijayvijayvijayvijayvijayvijayvijayvijayvijayvijayvijayvijayvijayvijayvijayvijayvijayvijayvijayvijayvijayvijayvijayvijayvijayvijayvijayvijayvijayvijayvijayvijayvijay\n"
     ]
    }
   ],
   "source": [
    "i = \"vijay\"\n",
    "print(i * 100)"
   ]
  },
  {
   "cell_type": "code",
   "execution_count": 106,
   "metadata": {},
   "outputs": [
    {
     "name": "stdout",
     "output_type": "stream",
     "text": [
      "  *\n",
      "   *\n",
      "    *\n",
      "     *\n",
      "      *\n",
      "       *\n",
      "        *\n",
      "         *\n",
      "          *\n",
      "           *\n"
     ]
    }
   ],
   "source": [
    "i=\"*\"\n",
    "for i in range(1,10+1):\n",
    "    print(i*\" \",\"*\",)"
   ]
  },
  {
   "cell_type": "code",
   "execution_count": 104,
   "metadata": {},
   "outputs": [
    {
     "name": "stdout",
     "output_type": "stream",
     "text": [
      "6\n",
      "12\n",
      "18\n",
      "24\n",
      "30\n",
      "36\n",
      "42\n",
      "48\n",
      "54\n",
      "60\n"
     ]
    }
   ],
   "source": [
    "for i in range(1,10+1):\n",
    "    print(i*6)"
   ]
  },
  {
   "cell_type": "code",
   "execution_count": 111,
   "metadata": {},
   "outputs": [
    {
     "name": "stdout",
     "output_type": "stream",
     "text": [
      "1\n",
      "3\n",
      "5\n",
      "7\n",
      "9\n"
     ]
    }
   ],
   "source": [
    "#increament of2\n",
    "\n",
    "for i in range(1,10,2):\n",
    "    print(i)"
   ]
  },
  {
   "cell_type": "code",
   "execution_count": 108,
   "metadata": {},
   "outputs": [
    {
     "name": "stdout",
     "output_type": "stream",
     "text": [
      "triangle\n"
     ]
    }
   ],
   "source": []
  },
  {
   "cell_type": "code",
   "execution_count": 112,
   "metadata": {},
   "outputs": [
    {
     "ename": "SyntaxError",
     "evalue": "invalid syntax (<ipython-input-112-d45dcc7788bb>, line 1)",
     "output_type": "error",
     "traceback": [
      "\u001b[0;36m  File \u001b[0;32m\"<ipython-input-112-d45dcc7788bb>\"\u001b[0;36m, line \u001b[0;32m1\u001b[0m\n\u001b[0;31m    for i in range(1,8)\u001b[0m\n\u001b[0m                       ^\u001b[0m\n\u001b[0;31mSyntaxError\u001b[0m\u001b[0;31m:\u001b[0m invalid syntax\n"
     ]
    }
   ],
   "source": [
    "for i in range(1,8):\n",
    "    if(i%2==1):\n",
    "    print(i*\"*\")\n"
   ]
  },
  {
   "cell_type": "code",
   "execution_count": 127,
   "metadata": {},
   "outputs": [
    {
     "name": "stdout",
     "output_type": "stream",
     "text": [
      "********\n",
      "*******\n",
      "******\n",
      "*****\n",
      "****\n",
      "***\n",
      "**\n",
      "*\n",
      "\n"
     ]
    }
   ],
   "source": [
    "for i in range(8,-1,-1):\n",
    "    print(i*\"*\")"
   ]
  },
  {
   "cell_type": "code",
   "execution_count": null,
   "metadata": {},
   "outputs": [],
   "source": []
  }
 ],
 "metadata": {
  "kernelspec": {
   "display_name": "Python 3",
   "language": "python",
   "name": "python3"
  },
  "language_info": {
   "codemirror_mode": {
    "name": "ipython",
    "version": 3
   },
   "file_extension": ".py",
   "mimetype": "text/x-python",
   "name": "python",
   "nbconvert_exporter": "python",
   "pygments_lexer": "ipython3",
   "version": "3.7.3"
  }
 },
 "nbformat": 4,
 "nbformat_minor": 4
}
